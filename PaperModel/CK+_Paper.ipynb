{
  "nbformat": 4,
  "nbformat_minor": 0,
  "metadata": {
    "colab": {
      "name": "CK+_Paper.ipynb",
      "provenance": [],
      "collapsed_sections": []
    },
    "kernelspec": {
      "name": "python3",
      "display_name": "Python 3"
    },
    "language_info": {
      "name": "python"
    },
    "accelerator": "GPU"
  },
  "cells": [
    {
      "cell_type": "code",
      "metadata": {
        "id": "XCJ0DwtMz8UH"
      },
      "source": [
        "import numpy as np # linear algebra\n",
        "import pandas as pd # data processing, CSV file I/O (e.g. pd.read_csv)\n",
        "import os,cv2\n",
        "import numpy as np\n",
        "import matplotlib.pyplot as plt\n",
        "import matplotlib.image as mpimg\n",
        "from pylab import rcParams\n",
        "rcParams['figure.figsize'] = 20, 10\n",
        "\n",
        "from sklearn.utils import shuffle\n",
        "import tensorflow\n",
        "from tensorflow import keras \n",
        "\n",
        "from keras.utils import np_utils\n",
        "from tensorflow.keras.models import Sequential\n",
        "from tensorflow.keras.layers import Dense , Activation , Dropout ,Flatten\n",
        "from tensorflow.keras.metrics import categorical_accuracy\n",
        "from tensorflow.keras.models import model_from_json\n",
        "from tensorflow.keras.optimizers import *\n"
      ],
      "execution_count": 1,
      "outputs": []
    },
    {
      "cell_type": "code",
      "metadata": {
        "colab": {
          "base_uri": "https://localhost:8080/"
        },
        "id": "WDtaTpQi1uQK",
        "outputId": "79a96047-ecef-4042-ee3b-6feea632f17e"
      },
      "source": [
        "from google.colab import drive\n",
        "drive.mount('/content/drive')"
      ],
      "execution_count": 2,
      "outputs": [
        {
          "output_type": "stream",
          "text": [
            "Mounted at /content/drive\n"
          ],
          "name": "stdout"
        }
      ]
    },
    {
      "cell_type": "code",
      "metadata": {
        "colab": {
          "base_uri": "https://localhost:8080/"
        },
        "id": "55CHZkHL1urh",
        "outputId": "ec48ac28-3185-4e82-d5a8-9edeca0f1baf"
      },
      "source": [
        "#Reading the data set\n",
        "p = '/content/drive/My Drive/CK+48'\n",
        "data_dir_list = os.listdir(p)\n",
        "arrayListData=[]\n",
        "\n",
        "for d in data_dir_list:\n",
        "    images=os.listdir(p+'/'+ d)\n",
        "    print ('Loading images of -'+'{}\\n'.format(d))\n",
        "    for i in images:\n",
        "        take=cv2.imread(p + '/'+ d + '/'+ i )\n",
        "        take1=cv2.resize(take,(48,48))\n",
        "        arrayListData.append(take1)\n",
        "        \n",
        "d1 = np.array(arrayListData)\n",
        "d1 = d1.astype('float32')\n",
        "d1 = d1/255\n",
        "d1.shape"
      ],
      "execution_count": 5,
      "outputs": [
        {
          "output_type": "stream",
          "text": [
            "Loading images of -fear\n",
            "\n",
            "Loading images of -contempt\n",
            "\n",
            "Loading images of -disgust\n",
            "\n",
            "Loading images of -surprise\n",
            "\n",
            "Loading images of -sadness\n",
            "\n",
            "Loading images of -happy\n",
            "\n",
            "Loading images of -anger\n",
            "\n"
          ],
          "name": "stdout"
        },
        {
          "output_type": "execute_result",
          "data": {
            "text/plain": [
              "(981, 48, 48, 3)"
            ]
          },
          "metadata": {
            "tags": []
          },
          "execution_count": 5
        }
      ]
    },
    {
      "cell_type": "code",
      "metadata": {
        "id": "miWu7jRE17DM"
      },
      "source": [
        "num_of_samples = d1.shape[0]\n",
        "labels = np.ones((num_of_samples,),dtype='int64')\n",
        "\n",
        "labels[0:134]=0 \n",
        "labels[135:188]=1\n",
        "labels[189:365]=2\n",
        "labels[366:440]=3\n",
        "labels[441:647]=4\n",
        "labels[648:731]=5\n",
        "labels[732:980]=6\n"
      ],
      "execution_count": 6,
      "outputs": []
    },
    {
      "cell_type": "code",
      "metadata": {
        "id": "mBRIaln_2CAp"
      },
      "source": [
        "from sklearn.model_selection import train_test_split\n",
        "from keras.utils import np_utils\n",
        "img_Labels = np_utils.to_categorical(labels, 7)\n",
        "x,y = shuffle(d1,img_Labels, random_state=2)\n",
        "X_train, X_test, y_train, y_test = train_test_split(x, y, test_size=0.15, random_state=2)\n",
        "x_test=X_test"
      ],
      "execution_count": 7,
      "outputs": []
    },
    {
      "cell_type": "code",
      "metadata": {
        "colab": {
          "base_uri": "https://localhost:8080/"
        },
        "id": "pNjyches2laq",
        "outputId": "622ca17f-df7a-458f-9e4b-459d2c8519b8"
      },
      "source": [
        "from tensorflow import keras \n",
        "from tensorflow.keras.models import Model\n",
        "from tensorflow.keras.layers import Input, Dense, concatenate\n",
        "from tensorflow.keras.layers import Flatten, Dense, Conv2D, MaxPooling2D\n",
        "from tensorflow.keras.layers import Dropout, BatchNormalization, LeakyReLU, Activation\n",
        "\n",
        "\n",
        "left_branch_input = Input(shape=(48,48,3), name='Left_input')\n",
        "A1 = Conv2D(64, kernel_size=3, padding='same',activation='relu')(left_branch_input)\n",
        "A2 = BatchNormalization()(A1)\n",
        "A3 = MaxPooling2D(pool_size=(2, 2))(A2)\n",
        "A4 = (Dropout(.3))(A3)\n",
        "A5 = Conv2D(64, kernel_size=(3, 3), padding='same',activation='relu')(A4)\n",
        "A6 = MaxPooling2D(pool_size=(2, 2))(A5)\n",
        "A7 = Dropout(.5)(A6)\n",
        "A8 = Flatten()(A7)\n",
        "A9 = Dense(2034, activation='relu',kernel_regularizer=keras.regularizers.l2(0.01))(A8)\n",
        "\n",
        "right_branch_input = Input(shape=(48,48,3), name='Right_input')\n",
        "B1 = Conv2D(64, kernel_size=(3, 3), padding='same',activation='relu')(right_branch_input)\n",
        "B2 = BatchNormalization()(B1)\n",
        "B3 = MaxPooling2D(pool_size=(2, 2))(B2)\n",
        "B4 = Dropout(.3)(B3)\n",
        "\n",
        "\n",
        "B5 = Conv2D(64, kernel_size=(3, 3), padding='same',activation='relu')(B4)\n",
        "B6 = MaxPooling2D(pool_size=(2, 2))(B5)\n",
        "B7 = Dropout(.5)(B6)\n",
        "\n",
        "B8 = Flatten()(B7)\n",
        "B9 = Dense(2034, activation='relu',kernel_regularizer=keras.regularizers.l2(0.01))(B8)\n",
        "\n",
        "concat = concatenate([A9, B9], name='Concatenate')\n",
        "final_model_output = Dense(7, activation='sigmoid')(concat)\n",
        "final_model = Model(inputs=[left_branch_input, right_branch_input], outputs=final_model_output,\n",
        "                    name='Final_output')\n",
        "\n",
        "\n",
        "ada = Adadelta(lr=0.2, rho=0.95, epsilon=1e-08)\n",
        "final_model.compile(loss='categorical_crossentropy',optimizer='adam',metrics=['accuracy'])\n",
        "final_model.summary()"
      ],
      "execution_count": 8,
      "outputs": [
        {
          "output_type": "stream",
          "text": [
            "Model: \"Final_output\"\n",
            "__________________________________________________________________________________________________\n",
            "Layer (type)                    Output Shape         Param #     Connected to                     \n",
            "==================================================================================================\n",
            "Left_input (InputLayer)         [(None, 48, 48, 3)]  0                                            \n",
            "__________________________________________________________________________________________________\n",
            "Right_input (InputLayer)        [(None, 48, 48, 3)]  0                                            \n",
            "__________________________________________________________________________________________________\n",
            "conv2d (Conv2D)                 (None, 48, 48, 64)   1792        Left_input[0][0]                 \n",
            "__________________________________________________________________________________________________\n",
            "conv2d_2 (Conv2D)               (None, 48, 48, 64)   1792        Right_input[0][0]                \n",
            "__________________________________________________________________________________________________\n",
            "batch_normalization (BatchNorma (None, 48, 48, 64)   256         conv2d[0][0]                     \n",
            "__________________________________________________________________________________________________\n",
            "batch_normalization_1 (BatchNor (None, 48, 48, 64)   256         conv2d_2[0][0]                   \n",
            "__________________________________________________________________________________________________\n",
            "max_pooling2d (MaxPooling2D)    (None, 24, 24, 64)   0           batch_normalization[0][0]        \n",
            "__________________________________________________________________________________________________\n",
            "max_pooling2d_2 (MaxPooling2D)  (None, 24, 24, 64)   0           batch_normalization_1[0][0]      \n",
            "__________________________________________________________________________________________________\n",
            "dropout (Dropout)               (None, 24, 24, 64)   0           max_pooling2d[0][0]              \n",
            "__________________________________________________________________________________________________\n",
            "dropout_2 (Dropout)             (None, 24, 24, 64)   0           max_pooling2d_2[0][0]            \n",
            "__________________________________________________________________________________________________\n",
            "conv2d_1 (Conv2D)               (None, 24, 24, 64)   36928       dropout[0][0]                    \n",
            "__________________________________________________________________________________________________\n",
            "conv2d_3 (Conv2D)               (None, 24, 24, 64)   36928       dropout_2[0][0]                  \n",
            "__________________________________________________________________________________________________\n",
            "max_pooling2d_1 (MaxPooling2D)  (None, 12, 12, 64)   0           conv2d_1[0][0]                   \n",
            "__________________________________________________________________________________________________\n",
            "max_pooling2d_3 (MaxPooling2D)  (None, 12, 12, 64)   0           conv2d_3[0][0]                   \n",
            "__________________________________________________________________________________________________\n",
            "dropout_1 (Dropout)             (None, 12, 12, 64)   0           max_pooling2d_1[0][0]            \n",
            "__________________________________________________________________________________________________\n",
            "dropout_3 (Dropout)             (None, 12, 12, 64)   0           max_pooling2d_3[0][0]            \n",
            "__________________________________________________________________________________________________\n",
            "flatten (Flatten)               (None, 9216)         0           dropout_1[0][0]                  \n",
            "__________________________________________________________________________________________________\n",
            "flatten_1 (Flatten)             (None, 9216)         0           dropout_3[0][0]                  \n",
            "__________________________________________________________________________________________________\n",
            "dense (Dense)                   (None, 2034)         18747378    flatten[0][0]                    \n",
            "__________________________________________________________________________________________________\n",
            "dense_1 (Dense)                 (None, 2034)         18747378    flatten_1[0][0]                  \n",
            "__________________________________________________________________________________________________\n",
            "Concatenate (Concatenate)       (None, 4068)         0           dense[0][0]                      \n",
            "                                                                 dense_1[0][0]                    \n",
            "__________________________________________________________________________________________________\n",
            "dense_2 (Dense)                 (None, 7)            28483       Concatenate[0][0]                \n",
            "==================================================================================================\n",
            "Total params: 37,601,191\n",
            "Trainable params: 37,600,935\n",
            "Non-trainable params: 256\n",
            "__________________________________________________________________________________________________\n"
          ],
          "name": "stdout"
        },
        {
          "output_type": "stream",
          "text": [
            "/usr/local/lib/python3.7/dist-packages/tensorflow/python/keras/optimizer_v2/optimizer_v2.py:375: UserWarning: The `lr` argument is deprecated, use `learning_rate` instead.\n",
            "  \"The `lr` argument is deprecated, use `learning_rate` instead.\")\n"
          ],
          "name": "stderr"
        }
      ]
    },
    {
      "cell_type": "code",
      "metadata": {
        "id": "CHaKam4F2meU"
      },
      "source": [
        "from tensorflow.keras.callbacks import Callback, EarlyStopping, ReduceLROnPlateau\n",
        "\n",
        "lr_R = ReduceLROnPlateau(monitor='val_loss', factor=0.9, patience=5, verbose=1)"
      ],
      "execution_count": 9,
      "outputs": []
    },
    {
      "cell_type": "code",
      "metadata": {
        "colab": {
          "base_uri": "https://localhost:8080/"
        },
        "id": "Y8ERyTH02zcy",
        "outputId": "40c10680-ad24-45c9-f624-410338d2e0c3"
      },
      "source": [
        "history=final_model.fit([X_train,X_train], (y_train),\n",
        "          batch_size=64,\n",
        "          epochs=100,\n",
        "          verbose=1,\n",
        "          validation_data=([X_test,X_test],(y_test)),\n",
        "          shuffle=True,callbacks=[lr_R]\n",
        "          )"
      ],
      "execution_count": 11,
      "outputs": [
        {
          "output_type": "stream",
          "text": [
            "Epoch 1/100\n",
            "14/14 [==============================] - 1s 63ms/step - loss: 84.8790 - accuracy: 0.1717 - val_loss: 49.0681 - val_accuracy: 0.1486\n",
            "Epoch 2/100\n",
            "14/14 [==============================] - 0s 33ms/step - loss: 42.4961 - accuracy: 0.2113 - val_loss: 34.9283 - val_accuracy: 0.2230\n",
            "Epoch 3/100\n",
            "14/14 [==============================] - 0s 34ms/step - loss: 30.4654 - accuracy: 0.3313 - val_loss: 25.6731 - val_accuracy: 0.3446\n",
            "Epoch 4/100\n",
            "14/14 [==============================] - 0s 32ms/step - loss: 22.4685 - accuracy: 0.3745 - val_loss: 19.4387 - val_accuracy: 0.2838\n",
            "Epoch 5/100\n",
            "14/14 [==============================] - 0s 33ms/step - loss: 17.0834 - accuracy: 0.3782 - val_loss: 15.2243 - val_accuracy: 0.3041\n",
            "Epoch 6/100\n",
            "14/14 [==============================] - 0s 33ms/step - loss: 13.2648 - accuracy: 0.4514 - val_loss: 12.2004 - val_accuracy: 0.3919\n",
            "Epoch 7/100\n",
            "14/14 [==============================] - 0s 33ms/step - loss: 10.6614 - accuracy: 0.4418 - val_loss: 10.0276 - val_accuracy: 0.3514\n",
            "Epoch 8/100\n",
            "14/14 [==============================] - 0s 34ms/step - loss: 8.6120 - accuracy: 0.4970 - val_loss: 8.4403 - val_accuracy: 0.3784\n",
            "Epoch 9/100\n",
            "14/14 [==============================] - 0s 32ms/step - loss: 7.2510 - accuracy: 0.5474 - val_loss: 7.2499 - val_accuracy: 0.4189\n",
            "Epoch 10/100\n",
            "14/14 [==============================] - 0s 33ms/step - loss: 6.0115 - accuracy: 0.5426 - val_loss: 6.3198 - val_accuracy: 0.3649\n",
            "Epoch 11/100\n",
            "14/14 [==============================] - 0s 33ms/step - loss: 5.1483 - accuracy: 0.5786 - val_loss: 5.6364 - val_accuracy: 0.4797\n",
            "Epoch 12/100\n",
            "14/14 [==============================] - 0s 33ms/step - loss: 4.4700 - accuracy: 0.6411 - val_loss: 5.0384 - val_accuracy: 0.5203\n",
            "Epoch 13/100\n",
            "14/14 [==============================] - 0s 32ms/step - loss: 4.1649 - accuracy: 0.5414 - val_loss: 4.7619 - val_accuracy: 0.5270\n",
            "Epoch 14/100\n",
            "14/14 [==============================] - 0s 33ms/step - loss: 3.6768 - accuracy: 0.6303 - val_loss: 4.4282 - val_accuracy: 0.2703\n",
            "Epoch 15/100\n",
            "14/14 [==============================] - 0s 33ms/step - loss: 3.7156 - accuracy: 0.5570 - val_loss: 4.3328 - val_accuracy: 0.5068\n",
            "Epoch 16/100\n",
            "14/14 [==============================] - 0s 33ms/step - loss: 3.2973 - accuracy: 0.6026 - val_loss: 3.9859 - val_accuracy: 0.5541\n",
            "Epoch 17/100\n",
            "14/14 [==============================] - 0s 32ms/step - loss: 2.9413 - accuracy: 0.6134 - val_loss: 3.7057 - val_accuracy: 0.5203\n",
            "Epoch 18/100\n",
            "14/14 [==============================] - 0s 33ms/step - loss: 2.5124 - accuracy: 0.7011 - val_loss: 3.3945 - val_accuracy: 0.5473\n",
            "Epoch 19/100\n",
            "14/14 [==============================] - 0s 33ms/step - loss: 2.2763 - accuracy: 0.6963 - val_loss: 3.1940 - val_accuracy: 0.5135\n",
            "Epoch 20/100\n",
            "14/14 [==============================] - 0s 33ms/step - loss: 2.1837 - accuracy: 0.6639 - val_loss: 3.0918 - val_accuracy: 0.5878\n",
            "Epoch 21/100\n",
            "14/14 [==============================] - 0s 33ms/step - loss: 2.0212 - accuracy: 0.7191 - val_loss: 2.9658 - val_accuracy: 0.5405\n",
            "Epoch 22/100\n",
            "14/14 [==============================] - 0s 33ms/step - loss: 1.9475 - accuracy: 0.6759 - val_loss: 2.8989 - val_accuracy: 0.5270\n",
            "Epoch 23/100\n",
            "14/14 [==============================] - 0s 33ms/step - loss: 1.8071 - accuracy: 0.7323 - val_loss: 2.7148 - val_accuracy: 0.5811\n",
            "Epoch 24/100\n",
            "14/14 [==============================] - 0s 33ms/step - loss: 1.9235 - accuracy: 0.6855 - val_loss: 2.8282 - val_accuracy: 0.5811\n",
            "Epoch 25/100\n",
            "14/14 [==============================] - 0s 33ms/step - loss: 2.1430 - accuracy: 0.6663 - val_loss: 2.8687 - val_accuracy: 0.6014\n",
            "Epoch 26/100\n",
            "14/14 [==============================] - 0s 33ms/step - loss: 1.8904 - accuracy: 0.7203 - val_loss: 2.6132 - val_accuracy: 0.5743\n",
            "Epoch 27/100\n",
            "14/14 [==============================] - 0s 33ms/step - loss: 1.8334 - accuracy: 0.7179 - val_loss: 2.5840 - val_accuracy: 0.6216\n",
            "Epoch 28/100\n",
            "14/14 [==============================] - 0s 33ms/step - loss: 1.8056 - accuracy: 0.6951 - val_loss: 2.3809 - val_accuracy: 0.7230\n",
            "Epoch 29/100\n",
            "14/14 [==============================] - 0s 33ms/step - loss: 1.6243 - accuracy: 0.7503 - val_loss: 2.2772 - val_accuracy: 0.7162\n",
            "Epoch 30/100\n",
            "14/14 [==============================] - 0s 33ms/step - loss: 1.5465 - accuracy: 0.7251 - val_loss: 2.0946 - val_accuracy: 0.7095\n",
            "Epoch 31/100\n",
            "14/14 [==============================] - 0s 33ms/step - loss: 1.3677 - accuracy: 0.7683 - val_loss: 1.9177 - val_accuracy: 0.7162\n",
            "Epoch 32/100\n",
            "14/14 [==============================] - 0s 33ms/step - loss: 1.4142 - accuracy: 0.7107 - val_loss: 2.0536 - val_accuracy: 0.7297\n",
            "Epoch 33/100\n",
            "14/14 [==============================] - 0s 33ms/step - loss: 1.4031 - accuracy: 0.7251 - val_loss: 1.8878 - val_accuracy: 0.7027\n",
            "Epoch 34/100\n",
            "14/14 [==============================] - 0s 33ms/step - loss: 1.4535 - accuracy: 0.7071 - val_loss: 1.9173 - val_accuracy: 0.7365\n",
            "Epoch 35/100\n",
            "14/14 [==============================] - 0s 33ms/step - loss: 1.4061 - accuracy: 0.7383 - val_loss: 1.7856 - val_accuracy: 0.7365\n",
            "Epoch 36/100\n",
            "14/14 [==============================] - 0s 33ms/step - loss: 1.3501 - accuracy: 0.7299 - val_loss: 1.7233 - val_accuracy: 0.6757\n",
            "Epoch 37/100\n",
            "14/14 [==============================] - 0s 33ms/step - loss: 1.5477 - accuracy: 0.7131 - val_loss: 1.9044 - val_accuracy: 0.6689\n",
            "Epoch 38/100\n",
            "14/14 [==============================] - 0s 33ms/step - loss: 1.4565 - accuracy: 0.7335 - val_loss: 1.8038 - val_accuracy: 0.6959\n",
            "Epoch 39/100\n",
            "14/14 [==============================] - 0s 33ms/step - loss: 1.5200 - accuracy: 0.7047 - val_loss: 1.7867 - val_accuracy: 0.6757\n",
            "Epoch 40/100\n",
            "14/14 [==============================] - 0s 33ms/step - loss: 1.4068 - accuracy: 0.7455 - val_loss: 1.6653 - val_accuracy: 0.7230\n",
            "Epoch 41/100\n",
            "14/14 [==============================] - 0s 33ms/step - loss: 1.3241 - accuracy: 0.7611 - val_loss: 1.5325 - val_accuracy: 0.7027\n",
            "Epoch 42/100\n",
            "14/14 [==============================] - 0s 33ms/step - loss: 1.3736 - accuracy: 0.7335 - val_loss: 1.5453 - val_accuracy: 0.7432\n",
            "Epoch 43/100\n",
            "14/14 [==============================] - 0s 33ms/step - loss: 1.4260 - accuracy: 0.7443 - val_loss: 1.5949 - val_accuracy: 0.7365\n",
            "Epoch 44/100\n",
            "14/14 [==============================] - 0s 33ms/step - loss: 1.2663 - accuracy: 0.7779 - val_loss: 1.4215 - val_accuracy: 0.7703\n",
            "Epoch 45/100\n",
            "14/14 [==============================] - 0s 33ms/step - loss: 1.1527 - accuracy: 0.7803 - val_loss: 1.3203 - val_accuracy: 0.7635\n",
            "Epoch 46/100\n",
            "14/14 [==============================] - 0s 33ms/step - loss: 1.1001 - accuracy: 0.7863 - val_loss: 1.1644 - val_accuracy: 0.7500\n",
            "Epoch 47/100\n",
            "14/14 [==============================] - 0s 33ms/step - loss: 1.2718 - accuracy: 0.7455 - val_loss: 1.3416 - val_accuracy: 0.7568\n",
            "Epoch 48/100\n",
            "14/14 [==============================] - 0s 33ms/step - loss: 1.3387 - accuracy: 0.7371 - val_loss: 1.3600 - val_accuracy: 0.7838\n",
            "Epoch 49/100\n",
            "14/14 [==============================] - 0s 33ms/step - loss: 1.2208 - accuracy: 0.7779 - val_loss: 1.3010 - val_accuracy: 0.7500\n",
            "Epoch 50/100\n",
            "14/14 [==============================] - 0s 33ms/step - loss: 1.1152 - accuracy: 0.7935 - val_loss: 1.2073 - val_accuracy: 0.7635\n",
            "Epoch 51/100\n",
            "14/14 [==============================] - 0s 34ms/step - loss: 1.1868 - accuracy: 0.7623 - val_loss: 1.3444 - val_accuracy: 0.6959\n",
            "\n",
            "Epoch 00051: ReduceLROnPlateau reducing learning rate to 0.0009000000427477062.\n",
            "Epoch 52/100\n",
            "14/14 [==============================] - 0s 33ms/step - loss: 1.2716 - accuracy: 0.7383 - val_loss: 1.2708 - val_accuracy: 0.7635\n",
            "Epoch 53/100\n",
            "14/14 [==============================] - 0s 34ms/step - loss: 1.2387 - accuracy: 0.7599 - val_loss: 1.3851 - val_accuracy: 0.7703\n",
            "Epoch 54/100\n",
            "14/14 [==============================] - 0s 33ms/step - loss: 1.1458 - accuracy: 0.7743 - val_loss: 1.3971 - val_accuracy: 0.7162\n",
            "Epoch 55/100\n",
            "14/14 [==============================] - 0s 32ms/step - loss: 1.4439 - accuracy: 0.7023 - val_loss: 1.8955 - val_accuracy: 0.6284\n",
            "Epoch 56/100\n",
            "14/14 [==============================] - 0s 33ms/step - loss: 1.4483 - accuracy: 0.7683 - val_loss: 1.6813 - val_accuracy: 0.7432\n",
            "\n",
            "Epoch 00056: ReduceLROnPlateau reducing learning rate to 0.0008100000384729356.\n",
            "Epoch 57/100\n",
            "14/14 [==============================] - 0s 33ms/step - loss: 1.5651 - accuracy: 0.7407 - val_loss: 1.7685 - val_accuracy: 0.7568\n",
            "Epoch 58/100\n",
            "14/14 [==============================] - 0s 36ms/step - loss: 1.4783 - accuracy: 0.7707 - val_loss: 1.7119 - val_accuracy: 0.7230\n",
            "Epoch 59/100\n",
            "14/14 [==============================] - 0s 34ms/step - loss: 1.4364 - accuracy: 0.7563 - val_loss: 1.4613 - val_accuracy: 0.7905\n",
            "Epoch 60/100\n",
            "14/14 [==============================] - 0s 33ms/step - loss: 1.2682 - accuracy: 0.7755 - val_loss: 1.3713 - val_accuracy: 0.7230\n",
            "Epoch 61/100\n",
            "14/14 [==============================] - 0s 32ms/step - loss: 1.1300 - accuracy: 0.8127 - val_loss: 1.2765 - val_accuracy: 0.7432\n",
            "\n",
            "Epoch 00061: ReduceLROnPlateau reducing learning rate to 0.0007290000503417104.\n",
            "Epoch 62/100\n",
            "14/14 [==============================] - 0s 33ms/step - loss: 1.0903 - accuracy: 0.8055 - val_loss: 1.2477 - val_accuracy: 0.7568\n",
            "Epoch 63/100\n",
            "14/14 [==============================] - 0s 33ms/step - loss: 1.0381 - accuracy: 0.8079 - val_loss: 1.2318 - val_accuracy: 0.7162\n",
            "Epoch 64/100\n",
            "14/14 [==============================] - 0s 33ms/step - loss: 0.9908 - accuracy: 0.8187 - val_loss: 1.1354 - val_accuracy: 0.7432\n",
            "Epoch 65/100\n",
            "14/14 [==============================] - 0s 33ms/step - loss: 0.9675 - accuracy: 0.8151 - val_loss: 1.1580 - val_accuracy: 0.7500\n",
            "Epoch 66/100\n",
            "14/14 [==============================] - 0s 33ms/step - loss: 1.1704 - accuracy: 0.7539 - val_loss: 1.4517 - val_accuracy: 0.6824\n",
            "Epoch 67/100\n",
            "14/14 [==============================] - 0s 33ms/step - loss: 1.1245 - accuracy: 0.7779 - val_loss: 1.3646 - val_accuracy: 0.7365\n",
            "Epoch 68/100\n",
            "14/14 [==============================] - 0s 33ms/step - loss: 1.0845 - accuracy: 0.7851 - val_loss: 1.1708 - val_accuracy: 0.7703\n",
            "Epoch 69/100\n",
            "14/14 [==============================] - 0s 33ms/step - loss: 1.0602 - accuracy: 0.8151 - val_loss: 1.3848 - val_accuracy: 0.6824\n",
            "\n",
            "Epoch 00069: ReduceLROnPlateau reducing learning rate to 0.0006561000715009868.\n",
            "Epoch 70/100\n",
            "14/14 [==============================] - 0s 33ms/step - loss: 1.1422 - accuracy: 0.7911 - val_loss: 1.2792 - val_accuracy: 0.7703\n",
            "Epoch 71/100\n",
            "14/14 [==============================] - 0s 33ms/step - loss: 1.0789 - accuracy: 0.7935 - val_loss: 1.2964 - val_accuracy: 0.7703\n",
            "Epoch 72/100\n",
            "14/14 [==============================] - 0s 33ms/step - loss: 1.0728 - accuracy: 0.8139 - val_loss: 1.2893 - val_accuracy: 0.7432\n",
            "Epoch 73/100\n",
            "14/14 [==============================] - 0s 33ms/step - loss: 1.0509 - accuracy: 0.8007 - val_loss: 1.2232 - val_accuracy: 0.7365\n",
            "Epoch 74/100\n",
            "14/14 [==============================] - 0s 32ms/step - loss: 1.0609 - accuracy: 0.8019 - val_loss: 1.2281 - val_accuracy: 0.7568\n",
            "\n",
            "Epoch 00074: ReduceLROnPlateau reducing learning rate to 0.0005904900433961303.\n",
            "Epoch 75/100\n",
            "14/14 [==============================] - 0s 33ms/step - loss: 1.0324 - accuracy: 0.8067 - val_loss: 1.1507 - val_accuracy: 0.7770\n",
            "Epoch 76/100\n",
            "14/14 [==============================] - 0s 33ms/step - loss: 0.9661 - accuracy: 0.8115 - val_loss: 1.1235 - val_accuracy: 0.7432\n",
            "Epoch 77/100\n",
            "14/14 [==============================] - 0s 32ms/step - loss: 0.9839 - accuracy: 0.8223 - val_loss: 1.3433 - val_accuracy: 0.7027\n",
            "Epoch 78/100\n",
            "14/14 [==============================] - 0s 33ms/step - loss: 0.9480 - accuracy: 0.8283 - val_loss: 1.1655 - val_accuracy: 0.7297\n",
            "Epoch 79/100\n",
            "14/14 [==============================] - 0s 33ms/step - loss: 1.0234 - accuracy: 0.7983 - val_loss: 1.3229 - val_accuracy: 0.7500\n",
            "Epoch 80/100\n",
            "14/14 [==============================] - 0s 33ms/step - loss: 1.0867 - accuracy: 0.7959 - val_loss: 1.2336 - val_accuracy: 0.7095\n",
            "Epoch 81/100\n",
            "14/14 [==============================] - 0s 33ms/step - loss: 1.0899 - accuracy: 0.7959 - val_loss: 1.1409 - val_accuracy: 0.7568\n",
            "\n",
            "Epoch 00081: ReduceLROnPlateau reducing learning rate to 0.0005314410547725857.\n",
            "Epoch 82/100\n",
            "14/14 [==============================] - 0s 33ms/step - loss: 0.9883 - accuracy: 0.8031 - val_loss: 1.1543 - val_accuracy: 0.7365\n",
            "Epoch 83/100\n",
            "14/14 [==============================] - 0s 33ms/step - loss: 0.9206 - accuracy: 0.8379 - val_loss: 1.1056 - val_accuracy: 0.7905\n",
            "Epoch 84/100\n",
            "14/14 [==============================] - 0s 33ms/step - loss: 0.8634 - accuracy: 0.8259 - val_loss: 1.0443 - val_accuracy: 0.7432\n",
            "Epoch 85/100\n",
            "14/14 [==============================] - 0s 33ms/step - loss: 0.8398 - accuracy: 0.8247 - val_loss: 1.0062 - val_accuracy: 0.7703\n",
            "Epoch 86/100\n",
            "14/14 [==============================] - 0s 33ms/step - loss: 0.8548 - accuracy: 0.8283 - val_loss: 1.0876 - val_accuracy: 0.7162\n",
            "Epoch 87/100\n",
            "14/14 [==============================] - 0s 33ms/step - loss: 0.8219 - accuracy: 0.8283 - val_loss: 1.0333 - val_accuracy: 0.7230\n",
            "Epoch 88/100\n",
            "14/14 [==============================] - 0s 33ms/step - loss: 0.7942 - accuracy: 0.8463 - val_loss: 1.0198 - val_accuracy: 0.7568\n",
            "Epoch 89/100\n",
            "14/14 [==============================] - 0s 33ms/step - loss: 0.7645 - accuracy: 0.8451 - val_loss: 1.0278 - val_accuracy: 0.7365\n",
            "Epoch 90/100\n",
            "14/14 [==============================] - 0s 33ms/step - loss: 0.7417 - accuracy: 0.8463 - val_loss: 0.9723 - val_accuracy: 0.7500\n",
            "Epoch 91/100\n",
            "14/14 [==============================] - 0s 33ms/step - loss: 0.6948 - accuracy: 0.8691 - val_loss: 0.9702 - val_accuracy: 0.7432\n",
            "Epoch 92/100\n",
            "14/14 [==============================] - 0s 33ms/step - loss: 0.6779 - accuracy: 0.8547 - val_loss: 0.9579 - val_accuracy: 0.7703\n",
            "Epoch 93/100\n",
            "14/14 [==============================] - 0s 33ms/step - loss: 0.8141 - accuracy: 0.8175 - val_loss: 1.0672 - val_accuracy: 0.7230\n",
            "Epoch 94/100\n",
            "14/14 [==============================] - 0s 33ms/step - loss: 0.8613 - accuracy: 0.8091 - val_loss: 1.0773 - val_accuracy: 0.7568\n",
            "Epoch 95/100\n",
            "14/14 [==============================] - 0s 33ms/step - loss: 0.9303 - accuracy: 0.8067 - val_loss: 1.1830 - val_accuracy: 0.7162\n",
            "Epoch 96/100\n",
            "14/14 [==============================] - 0s 32ms/step - loss: 0.9257 - accuracy: 0.8163 - val_loss: 1.1447 - val_accuracy: 0.7365\n",
            "Epoch 97/100\n",
            "14/14 [==============================] - 0s 33ms/step - loss: 0.9531 - accuracy: 0.8247 - val_loss: 1.1591 - val_accuracy: 0.7297\n",
            "\n",
            "Epoch 00097: ReduceLROnPlateau reducing learning rate to 0.00047829695977270604.\n",
            "Epoch 98/100\n",
            "14/14 [==============================] - 0s 33ms/step - loss: 0.8900 - accuracy: 0.8439 - val_loss: 1.1605 - val_accuracy: 0.7838\n",
            "Epoch 99/100\n",
            "14/14 [==============================] - 0s 33ms/step - loss: 0.8682 - accuracy: 0.8487 - val_loss: 1.1872 - val_accuracy: 0.7635\n",
            "Epoch 100/100\n",
            "14/14 [==============================] - 0s 34ms/step - loss: 0.8194 - accuracy: 0.8487 - val_loss: 1.0652 - val_accuracy: 0.7635\n"
          ],
          "name": "stdout"
        }
      ]
    },
    {
      "cell_type": "code",
      "metadata": {
        "id": "UJw81PY_Oh49"
      },
      "source": [
        ""
      ],
      "execution_count": null,
      "outputs": []
    },
    {
      "cell_type": "code",
      "metadata": {
        "colab": {
          "base_uri": "https://localhost:8080/",
          "height": 581
        },
        "id": "xy8OHpyC7hBl",
        "outputId": "3a2a0864-aac2-4560-8deb-2fe4b3eee8b1"
      },
      "source": [
        "# visualizing losses and accuracy\n",
        "import matplotlib.pyplot as plt\n",
        "%matplotlib inline\n",
        "\n",
        "train_loss=history.history['loss']\n",
        "val_loss=history.history['val_loss']\n",
        "train_acc=history.history['accuracy']\n",
        "val_acc=history.history['val_accuracy']\n",
        "\n",
        "epochs = range(len(train_acc))\n",
        "\n",
        "plt.plot(epochs,train_loss,'r', label='train_loss')\n",
        "plt.plot(epochs,val_loss,'b', label='val_loss')\n",
        "plt.title('train_loss vs val_loss')\n",
        "plt.legend()\n",
        "plt.figure()\n",
        "\n",
        "plt.plot(epochs,train_acc,'r', label='train_acc')\n",
        "plt.plot(epochs,val_acc,'b', label='val_accuracy')\n",
        "plt.title('train_acc vs val_acc')\n",
        "plt.legend()\n",
        "plt.figure()"
      ],
      "execution_count": 12,
      "outputs": [
        {
          "output_type": "execute_result",
          "data": {
            "text/plain": [
              "<Figure size 432x288 with 0 Axes>"
            ]
          },
          "metadata": {
            "tags": []
          },
          "execution_count": 12
        },
        {
          "output_type": "display_data",
          "data": {
            "image/png": "[encoded data removed]",
            "text/plain": [
              "<Figure size 432x288 with 1 Axes>"
            ]
          },
          "metadata": {
            "tags": [],
            "needs_background": "light"
          }
        },
        {
          "output_type": "display_data",
          "data": {
            "image/png": "[encoded data removed]",
            "text/plain": [
              "<Figure size 432x288 with 1 Axes>"
            ]
          },
          "metadata": {
            "tags": [],
            "needs_background": "light"
          }
        },
        {
          "output_type": "display_data",
          "data": {
            "text/plain": [
              "<Figure size 432x288 with 0 Axes>"
            ]
          },
          "metadata": {
            "tags": []
          }
        }
      ]
    },
    {
      "cell_type": "code",
      "metadata": {
        "id": "WhoTU5WQS4LJ"
      },
      "source": [
        "labels = ['anger','contempt','disgust','fear','happy','sadness','surprise']"
      ],
      "execution_count": null,
      "outputs": []
    },
    {
      "cell_type": "code",
      "metadata": {
        "id": "83IDqXOIRnHZ"
      },
      "source": [
        "from sklearn.metrics import confusion_matrix \n",
        "import matplotlib \n",
        "%matplotlib inline\n",
        "\n",
        "def plot_confusion_matrix(y_true, y_pred, cmap=plt.cm.Blues):\n",
        "    \"\"\"\n",
        "    The function is used to construct the confusion matrix \n",
        "    \"\"\"\n",
        "    cm = confusion_matrix(y_true, y_pred)\n",
        "    fig = plt.figure(figsize=(7,7))\n",
        "    matplotlib.rcParams.update({'font.size': 16})\n",
        "    ax  = fig.add_subplot(111)\n",
        "    matrix = ax.imshow(cm, interpolation='nearest', cmap=cmap)\n",
        "    fig.colorbar(matrix) \n",
        "    for i in range(0,7):\n",
        "        for j in range(0,7):  \n",
        "            ax.text(j,i,cm[i,j],va='center', ha='center')\n",
        "    ticks = np.arange(len(labels))\n",
        "    ax.set_xticks(ticks)\n",
        "    ax.set_xticklabels(labels, rotation=45)\n",
        "    ax.set_yticks(ticks)\n",
        "    ax.set_yticklabels(labels)\n",
        "    plt.tight_layout()\n",
        "    plt.ylabel('True label')\n",
        "    plt.xlabel('Predicted label')\n",
        "\n",
        " \n",
        "\n"
      ],
      "execution_count": null,
      "outputs": []
    },
    {
      "cell_type": "code",
      "metadata": {
        "colab": {
          "base_uri": "https://localhost:8080/",
          "height": 510
        },
        "id": "BF9rodPKRu_u",
        "outputId": "7067d92e-eb2f-4d67-ead7-b6bcc5bf7bf6"
      },
      "source": [
        "y_prob=final_model.predict([X_test,X_test],batch_size=64,verbose=1)\n",
        "y_pred = [np.argmax(prob) for prob in y_prob]\n",
        "y_true = [np.argmax(true) for true in y_test]\n",
        "plot_confusion_matrix(y_true, y_pred, cmap=plt.cm.YlGnBu)\n",
        "plt.show()"
      ],
      "execution_count": null,
      "outputs": [
        {
          "output_type": "stream",
          "text": [
            "3/3 [==============================] - 0s 16ms/step\n"
          ],
          "name": "stdout"
        },
        {
          "output_type": "display_data",
          "data": {
            "image/png": "[encoded data removed]",
            "text/plain": [
              "<Figure size 504x504 with 2 Axes>"
            ]
          },
          "metadata": {
            "tags": [],
            "needs_background": "light"
          }
        }
      ]
    },
    {
      "cell_type": "code",
      "metadata": {
        "id": "PdMJA6FxVmPn"
      },
      "source": [
        "names = ['ANGRY','DISGUST','FEAR','HAPPY','NEUTRAL','SAD','SURPRISE']\n",
        "\n",
        "def getLabel(id):\n",
        "    return ['ANGRY','DISGUST','FEAR','HAPPY','NEUTRAL','SAD','SURPRISE'][id]"
      ],
      "execution_count": null,
      "outputs": []
    },
    {
      "cell_type": "code",
      "metadata": {
        "colab": {
          "base_uri": "https://localhost:8080/"
        },
        "id": "nfGvUPbZUZt0",
        "outputId": "5080eb9d-efc0-4251-d6be-29472bef42d8"
      },
      "source": [
        "# Evaluating the model\n",
        "score = final_model.evaluate([X_test,X_test], y_test, verbose=0)\n",
        "print('Test Loss:', score[0])\n",
        "print('Test accuracy:', score[1])\n",
        "\n",
        "test_image = X_test[0:1]\n",
        "print (test_image.shape)\n",
        "\n"
      ],
      "execution_count": null,
      "outputs": [
        {
          "output_type": "stream",
          "text": [
            "Test Loss: 0.9777425527572632\n",
            "Test accuracy: 0.7905405163764954\n",
            "(1, 48, 48, 3)\n"
          ],
          "name": "stdout"
        }
      ]
    },
    {
      "cell_type": "code",
      "metadata": {
        "colab": {
          "base_uri": "https://localhost:8080/",
          "height": 319
        },
        "id": "IvO1HIbNy63Z",
        "outputId": "82ea0fbd-1f6b-44b7-e932-2ade154cd8a1"
      },
      "source": [
        "import brewer2mpl\n",
        " \n",
        "def plot_distribution2(y_true, y_pred):\n",
        "    \"\"\"\n",
        "    The function is used to compare the number of true labels as well as prediction results\n",
        "    \"\"\"\n",
        "    colorset = brewer2mpl.get_map('Set3', 'qualitative', 7).mpl_colors\n",
        "    ind = np.arange(1.5,8,1)  # the x locations for the groups\n",
        "    width = 0.35\n",
        "    fig, ax = plt.subplots()\n",
        "    true = ax.bar(ind, np.bincount(y_true), width, color=colorset, alpha=1.0)\n",
        "    pred = ax.bar(ind + width, np.bincount(y_pred), width, color=colorset, alpha=0.3)\n",
        "    ax.set_xticks(np.arange(1.5,8,1))\n",
        "    ax.set_xticklabels(names, rotation=30, fontsize=14)\n",
        "    ax.set_xlim([1.25, 8.5])\n",
        "    ax.set_ylim([0, 60])\n",
        "    ax.set_title('True and Predicted Label Count on CK+ ')\n",
        "    plt.tight_layout()\n",
        "    plt.show()\n",
        " \n",
        "print(len(y_true))\n",
        "print(len(y_pred)) \n",
        "plot_distribution2(y_true, y_pred)\n",
        "\n"
      ],
      "execution_count": null,
      "outputs": [
        {
          "output_type": "stream",
          "text": [
            "148\n",
            "148\n"
          ],
          "name": "stdout"
        },
        {
          "output_type": "display_data",
          "data": {
            "image/png": "[encoded data removed]",
            "text/plain": [
              "<Figure size 432x288 with 1 Axes>"
            ]
          },
          "metadata": {
            "tags": [],
            "needs_background": "light"
          }
        }
      ]
    },
    {
      "cell_type": "code",
      "metadata": {
        "colab": {
          "base_uri": "https://localhost:8080/"
        },
        "id": "U6Wyic-C21Ua",
        "outputId": "d4339734-6304-4f0d-d6b6-0229d0e3122c"
      },
      "source": [
        "pip install brewer2mpl"
      ],
      "execution_count": null,
      "outputs": [
        {
          "output_type": "stream",
          "text": [
            "Collecting brewer2mpl\n",
            "  Downloading https://files.pythonhosted.org/packages/84/57/00c45a199719e617db0875181134fcb3aeef701deae346547ac722eaaf5e/brewer2mpl-1.4.1-py2.py3-none-any.whl\n",
            "Installing collected packages: brewer2mpl\n",
            "Successfully installed brewer2mpl-1.4.1\n"
          ],
          "name": "stdout"
        }
      ]
    }
  ]
}