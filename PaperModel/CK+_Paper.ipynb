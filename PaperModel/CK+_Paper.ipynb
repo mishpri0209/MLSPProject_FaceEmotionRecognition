{
  "nbformat": 4,
  "nbformat_minor": 0,
  "metadata": {
    "colab": {
      "name": "CK+_Paper.ipynb",
      "provenance": [],
      "collapsed_sections": []
    },
    "kernelspec": {
      "name": "python3",
      "display_name": "Python 3"
    },
    "language_info": {
      "name": "python"
    },
    "accelerator": "GPU"
  },
  "cells": [
    {
      "cell_type": "code",
      "metadata": {
        "id": "XCJ0DwtMz8UH"
      },
      "source": [
        "import numpy as np # linear algebra\n",
        "import pandas as pd # data processing, CSV file I/O (e.g. pd.read_csv)\n",
        "import os,cv2\n",
        "import numpy as np\n",
        "import matplotlib.pyplot as plt\n",
        "import matplotlib.image as mpimg\n",
        "from pylab import rcParams\n",
        "rcParams['figure.figsize'] = 20, 10\n",
        "\n",
        "from sklearn.utils import shuffle\n",
        "import tensorflow\n",
        "from tensorflow import keras \n",
        "\n",
        "from keras.utils import np_utils\n",
        "from tensorflow.keras.models import Sequential\n",
        "from tensorflow.keras.layers import Dense , Activation , Dropout ,Flatten\n",
        "from tensorflow.keras.metrics import categorical_accuracy\n",
        "from tensorflow.keras.models import model_from_json\n",
        "from tensorflow.keras.optimizers import *\n"
      ],
      "execution_count": null,
      "outputs": []
    },
    {
      "cell_type": "code",
      "metadata": {
        "colab": {
          "base_uri": "https://localhost:8080/"
        },
        "id": "WDtaTpQi1uQK",
        "outputId": "16506680-f007-4db1-91d2-139c188be1e0"
      },
      "source": [
        "from google.colab import drive\n",
        "drive.mount('/content/drive')"
      ],
      "execution_count": null,
      "outputs": [
        {
          "output_type": "stream",
          "text": [
            "Mounted at /content/drive\n"
          ],
          "name": "stdout"
        }
      ]
    },
    {
      "cell_type": "code",
      "metadata": {
        "colab": {
          "base_uri": "https://localhost:8080/"
        },
        "id": "55CHZkHL1urh",
        "outputId": "b4bd0214-4f11-4db0-a3c8-0c730bec1c2a"
      },
      "source": [
        "#Reading the data set\n",
        "p = '/content/drive/My Drive/CK+48'\n",
        "data_dir_list = os.listdir(p)\n",
        "arrayListData=[]\n",
        "\n",
        "for d in data_dir_list:\n",
        "    images=os.listdir(p+'/'+ d)\n",
        "    print ('Loading images of -'+'{}\\n'.format(d))\n",
        "    for i in images:\n",
        "        take=cv2.imread(p + '/'+ d + '/'+ i )\n",
        "        take1=cv2.resize(take,(48,48))\n",
        "        arrayListData.append(take1)\n",
        "        \n",
        "d1 = np.array(arrayList)\n",
        "d1 = d1.astype('float32')\n",
        "d1 = d1/255\n",
        "d1.shape"
      ],
      "execution_count": null,
      "outputs": [
        {
          "output_type": "stream",
          "text": [
            "Loaded the images of dataset-fear\n",
            "\n",
            "Loaded the images of dataset-contempt\n",
            "\n",
            "Loaded the images of dataset-disgust\n",
            "\n",
            "Loaded the images of dataset-surprise\n",
            "\n",
            "Loaded the images of dataset-sadness\n",
            "\n",
            "Loaded the images of dataset-happy\n",
            "\n",
            "Loaded the images of dataset-anger\n",
            "\n"
          ],
          "name": "stdout"
        },
        {
          "output_type": "execute_result",
          "data": {
            "text/plain": [
              "(981, 48, 48, 3)"
            ]
          },
          "metadata": {
            "tags": []
          },
          "execution_count": 4
        }
      ]
    },
    {
      "cell_type": "code",
      "metadata": {
        "id": "miWu7jRE17DM"
      },
      "source": [
        "num_of_samples = d1.shape[0]\n",
        "labels = np.ones((num_of_samples,),dtype='int64')\n",
        "\n",
        "labels[0:134]=0 \n",
        "labels[135:188]=1\n",
        "labels[189:365]=2\n",
        "labels[366:440]=3\n",
        "labels[441:647]=4\n",
        "labels[648:731]=5\n",
        "labels[732:980]=6\n"
      ],
      "execution_count": null,
      "outputs": []
    },
    {
      "cell_type": "code",
      "metadata": {
        "id": "mBRIaln_2CAp"
      },
      "source": [
        "from sklearn.model_selection import train_test_split\n",
        "from keras.utils import np_utils\n",
        "img_Labels = np_utils.to_categorical(labels, 7)\n",
        "x,y = shuffle(d1,img_Labels, random_state=2)\n",
        "X_train, X_test, y_train, y_test = train_test_split(x, y, test_size=0.15, random_state=2)\n",
        "x_test=X_test"
      ],
      "execution_count": null,
      "outputs": []
    },
    {
      "cell_type": "code",
      "metadata": {
        "colab": {
          "base_uri": "https://localhost:8080/"
        },
        "id": "pNjyches2laq",
        "outputId": "452c8cb9-d05d-40dd-d6df-fc1b2810ded9"
      },
      "source": [
        "from tensorflow import keras \n",
        "from tensorflow.keras.models import Model\n",
        "from tensorflow.keras.layers import Input, Dense, concatenate\n",
        "from tensorflow.keras.layers import Flatten, Dense, Conv2D, MaxPooling2D\n",
        "from tensorflow.keras.layers import Dropout, BatchNormalization, LeakyReLU, Activation\n",
        "\n",
        "\n",
        "left_branch_input = Input(shape=(48,48,3), name='Left_input')\n",
        "A1 = Conv2D(64, kernel_size=5, padding='same',activation='relu')(left_branch_input)\n",
        "A2 = BatchNormalization()(A1)\n",
        "A3 = MaxPooling2D(pool_size=(2, 2))(A2)\n",
        "A4 = (Dropout(.3))(A3)\n",
        "A5 = Conv2D(64, kernel_size=(3, 3), padding='same',activation='relu')(A4)\n",
        "A6 = MaxPooling2D(pool_size=(2, 2))(A5)\n",
        "A7 = Dropout(.5)(A6)\n",
        "A8 = Flatten()(A7)\n",
        "A9 = Dense(2034, activation='relu',kernel_regularizer=keras.regularizers.l2(0.01))(A8)\n",
        "\n",
        "right_branch_input = Input(shape=(48,48,3), name='Right_input')\n",
        "B1 = Conv2D(64, kernel_size=(5, 5), padding='same',activation='relu')(right_branch_input)\n",
        "B2 = BatchNormalization()(B1)\n",
        "B3 = MaxPooling2D(pool_size=(2, 2))(B2)\n",
        "B4 = Dropout(.3)(B3)\n",
        "\n",
        "\n",
        "B5 = Conv2D(64, kernel_size=(3, 3), padding='same',activation='relu')(B4)\n",
        "B6 = MaxPooling2D(pool_size=(2, 2))(B5)\n",
        "B7 = Dropout(.5)(B6)\n",
        "\n",
        "B8 = Flatten()(B7)\n",
        "B9 = Dense(2034, activation='relu',kernel_regularizer=keras.regularizers.l2(0.01))(B8)\n",
        "\n",
        "concat = concatenate([A9, B9], name='Concatenate')\n",
        "final_model_output = Dense(7, activation='sigmoid')(concat)\n",
        "final_model = Model(inputs=[left_branch_input, right_branch_input], outputs=final_model_output,\n",
        "                    name='Final_output')\n",
        "\n",
        "\n",
        "ada = Adadelta(lr=0.2, rho=0.95, epsilon=1e-08)\n",
        "final_model.compile(loss='categorical_crossentropy',optimizer='adam',metrics=['accuracy'])\n",
        "final_model.summary()"
      ],
      "execution_count": null,
      "outputs": [
        {
          "output_type": "stream",
          "text": [
            "Model: \"Final_output\"\n",
            "__________________________________________________________________________________________________\n",
            "Layer (type)                    Output Shape         Param #     Connected to                     \n",
            "==================================================================================================\n",
            "Left_input (InputLayer)         [(None, 48, 48, 3)]  0                                            \n",
            "__________________________________________________________________________________________________\n",
            "Right_input (InputLayer)        [(None, 48, 48, 3)]  0                                            \n",
            "__________________________________________________________________________________________________\n",
            "conv2d (Conv2D)                 (None, 48, 48, 64)   4864        Left_input[0][0]                 \n",
            "__________________________________________________________________________________________________\n",
            "conv2d_2 (Conv2D)               (None, 48, 48, 64)   4864        Right_input[0][0]                \n",
            "__________________________________________________________________________________________________\n",
            "batch_normalization (BatchNorma (None, 48, 48, 64)   256         conv2d[0][0]                     \n",
            "__________________________________________________________________________________________________\n",
            "batch_normalization_1 (BatchNor (None, 48, 48, 64)   256         conv2d_2[0][0]                   \n",
            "__________________________________________________________________________________________________\n",
            "max_pooling2d (MaxPooling2D)    (None, 24, 24, 64)   0           batch_normalization[0][0]        \n",
            "__________________________________________________________________________________________________\n",
            "max_pooling2d_2 (MaxPooling2D)  (None, 24, 24, 64)   0           batch_normalization_1[0][0]      \n",
            "__________________________________________________________________________________________________\n",
            "dropout (Dropout)               (None, 24, 24, 64)   0           max_pooling2d[0][0]              \n",
            "__________________________________________________________________________________________________\n",
            "dropout_2 (Dropout)             (None, 24, 24, 64)   0           max_pooling2d_2[0][0]            \n",
            "__________________________________________________________________________________________________\n",
            "conv2d_1 (Conv2D)               (None, 24, 24, 64)   36928       dropout[0][0]                    \n",
            "__________________________________________________________________________________________________\n",
            "conv2d_3 (Conv2D)               (None, 24, 24, 64)   36928       dropout_2[0][0]                  \n",
            "__________________________________________________________________________________________________\n",
            "max_pooling2d_1 (MaxPooling2D)  (None, 12, 12, 64)   0           conv2d_1[0][0]                   \n",
            "__________________________________________________________________________________________________\n",
            "max_pooling2d_3 (MaxPooling2D)  (None, 12, 12, 64)   0           conv2d_3[0][0]                   \n",
            "__________________________________________________________________________________________________\n",
            "dropout_1 (Dropout)             (None, 12, 12, 64)   0           max_pooling2d_1[0][0]            \n",
            "__________________________________________________________________________________________________\n",
            "dropout_3 (Dropout)             (None, 12, 12, 64)   0           max_pooling2d_3[0][0]            \n",
            "__________________________________________________________________________________________________\n",
            "flatten (Flatten)               (None, 9216)         0           dropout_1[0][0]                  \n",
            "__________________________________________________________________________________________________\n",
            "flatten_1 (Flatten)             (None, 9216)         0           dropout_3[0][0]                  \n",
            "__________________________________________________________________________________________________\n",
            "dense (Dense)                   (None, 2034)         18747378    flatten[0][0]                    \n",
            "__________________________________________________________________________________________________\n",
            "dense_1 (Dense)                 (None, 2034)         18747378    flatten_1[0][0]                  \n",
            "__________________________________________________________________________________________________\n",
            "Concatenate (Concatenate)       (None, 4068)         0           dense[0][0]                      \n",
            "                                                                 dense_1[0][0]                    \n",
            "__________________________________________________________________________________________________\n",
            "dense_2 (Dense)                 (None, 7)            28483       Concatenate[0][0]                \n",
            "==================================================================================================\n",
            "Total params: 37,607,335\n",
            "Trainable params: 37,607,079\n",
            "Non-trainable params: 256\n",
            "__________________________________________________________________________________________________\n"
          ],
          "name": "stdout"
        },
        {
          "output_type": "stream",
          "text": [
            "/usr/local/lib/python3.7/dist-packages/tensorflow/python/keras/optimizer_v2/optimizer_v2.py:375: UserWarning: The `lr` argument is deprecated, use `learning_rate` instead.\n",
            "  \"The `lr` argument is deprecated, use `learning_rate` instead.\")\n"
          ],
          "name": "stderr"
        }
      ]
    },
    {
      "cell_type": "code",
      "metadata": {
        "id": "CHaKam4F2meU"
      },
      "source": [
        "from tensorflow.keras.callbacks import Callback, EarlyStopping, ReduceLROnPlateau\n",
        "\n",
        "lr_R = ReduceLROnPlateau(monitor='val_loss', factor=0.9, patience=5, verbose=1)"
      ],
      "execution_count": null,
      "outputs": []
    },
    {
      "cell_type": "code",
      "metadata": {
        "colab": {
          "base_uri": "https://localhost:8080/"
        },
        "id": "Y8ERyTH02zcy",
        "outputId": "ab8c752c-a358-4e76-dac1-0d99aab891e3"
      },
      "source": [
        "history=final_model.fit([X_train,X_train], (y_train),\n",
        "          batch_size=64,\n",
        "          epochs=90,\n",
        "          verbose=1,\n",
        "          validation_data=([X_test,X_test],(y_test)),\n",
        "          shuffle=True,callbacks=[lr_R]\n",
        "          )"
      ],
      "execution_count": null,
      "outputs": [
        {
          "output_type": "stream",
          "text": [
            "Epoch 1/90\n",
            "14/14 [==============================] - 31s 104ms/step - loss: 87.5529 - accuracy: 0.1549 - val_loss: 50.2562 - val_accuracy: 0.1351\n",
            "Epoch 2/90\n",
            "14/14 [==============================] - 1s 68ms/step - loss: 43.6358 - accuracy: 0.1993 - val_loss: 35.9363 - val_accuracy: 0.1554\n",
            "Epoch 3/90\n",
            "14/14 [==============================] - 1s 68ms/step - loss: 31.3491 - accuracy: 0.2965 - val_loss: 26.3032 - val_accuracy: 0.2230\n",
            "Epoch 4/90\n",
            "14/14 [==============================] - 1s 68ms/step - loss: 23.0198 - accuracy: 0.3409 - val_loss: 19.7181 - val_accuracy: 0.2500\n",
            "Epoch 5/90\n",
            "14/14 [==============================] - 1s 68ms/step - loss: 17.2754 - accuracy: 0.3794 - val_loss: 15.2214 - val_accuracy: 0.3649\n",
            "Epoch 6/90\n",
            "14/14 [==============================] - 1s 67ms/step - loss: 13.2499 - accuracy: 0.4502 - val_loss: 12.0439 - val_accuracy: 0.3581\n",
            "Epoch 7/90\n",
            "14/14 [==============================] - 1s 66ms/step - loss: 10.4998 - accuracy: 0.4754 - val_loss: 9.8197 - val_accuracy: 0.4392\n",
            "Epoch 8/90\n",
            "14/14 [==============================] - 1s 67ms/step - loss: 8.5153 - accuracy: 0.4754 - val_loss: 8.2523 - val_accuracy: 0.3919\n",
            "Epoch 9/90\n",
            "14/14 [==============================] - 1s 67ms/step - loss: 7.1050 - accuracy: 0.4934 - val_loss: 7.1075 - val_accuracy: 0.4122\n",
            "Epoch 10/90\n",
            "14/14 [==============================] - 1s 67ms/step - loss: 5.9895 - accuracy: 0.5366 - val_loss: 6.0979 - val_accuracy: 0.3919\n",
            "Epoch 11/90\n",
            "14/14 [==============================] - 1s 68ms/step - loss: 5.0897 - accuracy: 0.5222 - val_loss: 5.4345 - val_accuracy: 0.4595\n",
            "Epoch 12/90\n",
            "14/14 [==============================] - 1s 68ms/step - loss: 4.5077 - accuracy: 0.5510 - val_loss: 4.9855 - val_accuracy: 0.3243\n",
            "Epoch 13/90\n",
            "14/14 [==============================] - 1s 68ms/step - loss: 3.9023 - accuracy: 0.6146 - val_loss: 4.4032 - val_accuracy: 0.5608\n",
            "Epoch 14/90\n",
            "14/14 [==============================] - 1s 67ms/step - loss: 3.5001 - accuracy: 0.5774 - val_loss: 4.0764 - val_accuracy: 0.4527\n",
            "Epoch 15/90\n",
            "14/14 [==============================] - 1s 67ms/step - loss: 3.0568 - accuracy: 0.6014 - val_loss: 3.7156 - val_accuracy: 0.5203\n",
            "Epoch 16/90\n",
            "14/14 [==============================] - 1s 68ms/step - loss: 2.6709 - accuracy: 0.6519 - val_loss: 3.4684 - val_accuracy: 0.3986\n",
            "Epoch 17/90\n",
            "14/14 [==============================] - 1s 67ms/step - loss: 2.6157 - accuracy: 0.6351 - val_loss: 3.3572 - val_accuracy: 0.5270\n",
            "Epoch 18/90\n",
            "14/14 [==============================] - 1s 67ms/step - loss: 2.6490 - accuracy: 0.5918 - val_loss: 3.2704 - val_accuracy: 0.5203\n",
            "Epoch 19/90\n",
            "14/14 [==============================] - 1s 67ms/step - loss: 2.4900 - accuracy: 0.6014 - val_loss: 3.1242 - val_accuracy: 0.5270\n",
            "Epoch 20/90\n",
            "14/14 [==============================] - 1s 68ms/step - loss: 2.1754 - accuracy: 0.6423 - val_loss: 2.8306 - val_accuracy: 0.5270\n",
            "Epoch 21/90\n",
            "14/14 [==============================] - 1s 67ms/step - loss: 2.1588 - accuracy: 0.6230 - val_loss: 2.9403 - val_accuracy: 0.5203\n",
            "Epoch 22/90\n",
            "14/14 [==============================] - 1s 67ms/step - loss: 1.9829 - accuracy: 0.6471 - val_loss: 2.8285 - val_accuracy: 0.5405\n",
            "Epoch 23/90\n",
            "14/14 [==============================] - 1s 67ms/step - loss: 1.9036 - accuracy: 0.6663 - val_loss: 2.7129 - val_accuracy: 0.5608\n",
            "Epoch 24/90\n",
            "14/14 [==============================] - 1s 67ms/step - loss: 1.7769 - accuracy: 0.6747 - val_loss: 2.5438 - val_accuracy: 0.5608\n",
            "Epoch 25/90\n",
            "14/14 [==============================] - 1s 68ms/step - loss: 1.6553 - accuracy: 0.6807 - val_loss: 2.3966 - val_accuracy: 0.6081\n",
            "Epoch 26/90\n",
            "14/14 [==============================] - 1s 67ms/step - loss: 1.4535 - accuracy: 0.7311 - val_loss: 2.2267 - val_accuracy: 0.5878\n",
            "Epoch 27/90\n",
            "14/14 [==============================] - 1s 67ms/step - loss: 1.5902 - accuracy: 0.6495 - val_loss: 2.0729 - val_accuracy: 0.6419\n",
            "Epoch 28/90\n",
            "14/14 [==============================] - 1s 67ms/step - loss: 1.5371 - accuracy: 0.7047 - val_loss: 2.1866 - val_accuracy: 0.5946\n",
            "Epoch 29/90\n",
            "14/14 [==============================] - 1s 68ms/step - loss: 1.6277 - accuracy: 0.6687 - val_loss: 1.9584 - val_accuracy: 0.5878\n",
            "Epoch 30/90\n",
            "14/14 [==============================] - 1s 66ms/step - loss: 1.5679 - accuracy: 0.6687 - val_loss: 1.9830 - val_accuracy: 0.6014\n",
            "Epoch 31/90\n",
            "14/14 [==============================] - 1s 67ms/step - loss: 1.4281 - accuracy: 0.7083 - val_loss: 1.8235 - val_accuracy: 0.6419\n",
            "Epoch 32/90\n",
            "14/14 [==============================] - 1s 67ms/step - loss: 1.4645 - accuracy: 0.6987 - val_loss: 1.8668 - val_accuracy: 0.6419\n",
            "Epoch 33/90\n",
            "14/14 [==============================] - 1s 68ms/step - loss: 1.4233 - accuracy: 0.7203 - val_loss: 1.8899 - val_accuracy: 0.5203\n",
            "Epoch 34/90\n",
            "14/14 [==============================] - 1s 68ms/step - loss: 1.4660 - accuracy: 0.6975 - val_loss: 1.9320 - val_accuracy: 0.6419\n",
            "Epoch 35/90\n",
            "14/14 [==============================] - 1s 67ms/step - loss: 1.3629 - accuracy: 0.7119 - val_loss: 1.7815 - val_accuracy: 0.6014\n",
            "Epoch 36/90\n",
            "14/14 [==============================] - 1s 67ms/step - loss: 1.6211 - accuracy: 0.6519 - val_loss: 1.8003 - val_accuracy: 0.6959\n",
            "Epoch 37/90\n",
            "14/14 [==============================] - 1s 67ms/step - loss: 1.5106 - accuracy: 0.6843 - val_loss: 1.6169 - val_accuracy: 0.7297\n",
            "Epoch 38/90\n",
            "14/14 [==============================] - 1s 66ms/step - loss: 1.5313 - accuracy: 0.6807 - val_loss: 1.5919 - val_accuracy: 0.7297\n",
            "Epoch 39/90\n",
            "14/14 [==============================] - 1s 67ms/step - loss: 1.3965 - accuracy: 0.6987 - val_loss: 1.6833 - val_accuracy: 0.6216\n",
            "Epoch 40/90\n",
            "14/14 [==============================] - 1s 67ms/step - loss: 1.5801 - accuracy: 0.6399 - val_loss: 1.5902 - val_accuracy: 0.7095\n",
            "Epoch 41/90\n",
            "14/14 [==============================] - 1s 66ms/step - loss: 1.3898 - accuracy: 0.7047 - val_loss: 1.5918 - val_accuracy: 0.7095\n",
            "Epoch 42/90\n",
            "14/14 [==============================] - 1s 67ms/step - loss: 1.3075 - accuracy: 0.7455 - val_loss: 1.5916 - val_accuracy: 0.6284\n",
            "Epoch 43/90\n",
            "14/14 [==============================] - 1s 66ms/step - loss: 1.5935 - accuracy: 0.6423 - val_loss: 1.5229 - val_accuracy: 0.7027\n",
            "Epoch 44/90\n",
            "14/14 [==============================] - 1s 67ms/step - loss: 1.5738 - accuracy: 0.6723 - val_loss: 1.5068 - val_accuracy: 0.7365\n",
            "Epoch 45/90\n",
            "14/14 [==============================] - 1s 67ms/step - loss: 1.4855 - accuracy: 0.7011 - val_loss: 1.4805 - val_accuracy: 0.7297\n",
            "Epoch 46/90\n",
            "14/14 [==============================] - 1s 66ms/step - loss: 1.4487 - accuracy: 0.6903 - val_loss: 1.3783 - val_accuracy: 0.7568\n",
            "Epoch 47/90\n",
            "14/14 [==============================] - 1s 68ms/step - loss: 1.2781 - accuracy: 0.7431 - val_loss: 1.3254 - val_accuracy: 0.7500\n",
            "Epoch 48/90\n",
            "14/14 [==============================] - 1s 69ms/step - loss: 1.1823 - accuracy: 0.7659 - val_loss: 1.2226 - val_accuracy: 0.7770\n",
            "Epoch 49/90\n",
            "14/14 [==============================] - 1s 67ms/step - loss: 1.0915 - accuracy: 0.7707 - val_loss: 1.1619 - val_accuracy: 0.7568\n",
            "Epoch 50/90\n",
            "14/14 [==============================] - 1s 67ms/step - loss: 0.9886 - accuracy: 0.7947 - val_loss: 1.1527 - val_accuracy: 0.7230\n",
            "Epoch 51/90\n",
            "14/14 [==============================] - 1s 67ms/step - loss: 1.1735 - accuracy: 0.7371 - val_loss: 1.2093 - val_accuracy: 0.6824\n",
            "Epoch 52/90\n",
            "14/14 [==============================] - 1s 67ms/step - loss: 1.2027 - accuracy: 0.7299 - val_loss: 1.2914 - val_accuracy: 0.6757\n",
            "Epoch 53/90\n",
            "14/14 [==============================] - 1s 68ms/step - loss: 1.3498 - accuracy: 0.7107 - val_loss: 1.3428 - val_accuracy: 0.7568\n",
            "Epoch 54/90\n",
            "14/14 [==============================] - 1s 68ms/step - loss: 1.2222 - accuracy: 0.7563 - val_loss: 1.1615 - val_accuracy: 0.7905\n",
            "Epoch 55/90\n",
            "14/14 [==============================] - 1s 69ms/step - loss: 1.1423 - accuracy: 0.7335 - val_loss: 1.2189 - val_accuracy: 0.7365\n",
            "\n",
            "Epoch 00055: ReduceLROnPlateau reducing learning rate to 0.0009000000427477062.\n",
            "Epoch 56/90\n",
            "14/14 [==============================] - 1s 68ms/step - loss: 1.1783 - accuracy: 0.6987 - val_loss: 1.2619 - val_accuracy: 0.7095\n",
            "Epoch 57/90\n",
            "14/14 [==============================] - 1s 68ms/step - loss: 1.1767 - accuracy: 0.7359 - val_loss: 1.2445 - val_accuracy: 0.7095\n",
            "Epoch 58/90\n",
            "14/14 [==============================] - 1s 67ms/step - loss: 1.0734 - accuracy: 0.7443 - val_loss: 1.1297 - val_accuracy: 0.7365\n",
            "Epoch 59/90\n",
            "14/14 [==============================] - 1s 68ms/step - loss: 1.1132 - accuracy: 0.7251 - val_loss: 1.2115 - val_accuracy: 0.7297\n",
            "Epoch 60/90\n",
            "14/14 [==============================] - 1s 66ms/step - loss: 1.1540 - accuracy: 0.7275 - val_loss: 1.1811 - val_accuracy: 0.7432\n",
            "Epoch 61/90\n",
            "14/14 [==============================] - 1s 65ms/step - loss: 1.1005 - accuracy: 0.7335 - val_loss: 1.0970 - val_accuracy: 0.7365\n",
            "Epoch 62/90\n",
            "14/14 [==============================] - 1s 67ms/step - loss: 1.0683 - accuracy: 0.7551 - val_loss: 1.1244 - val_accuracy: 0.7297\n",
            "Epoch 63/90\n",
            "14/14 [==============================] - 1s 66ms/step - loss: 1.0037 - accuracy: 0.7803 - val_loss: 1.1986 - val_accuracy: 0.6757\n",
            "Epoch 64/90\n",
            "14/14 [==============================] - 1s 65ms/step - loss: 1.1688 - accuracy: 0.7215 - val_loss: 1.1016 - val_accuracy: 0.7838\n",
            "Epoch 65/90\n",
            "14/14 [==============================] - 1s 68ms/step - loss: 1.0641 - accuracy: 0.7827 - val_loss: 1.2026 - val_accuracy: 0.7365\n",
            "Epoch 66/90\n",
            "14/14 [==============================] - 1s 66ms/step - loss: 1.0047 - accuracy: 0.7659 - val_loss: 1.1375 - val_accuracy: 0.7095\n",
            "\n",
            "Epoch 00066: ReduceLROnPlateau reducing learning rate to 0.0008100000384729356.\n",
            "Epoch 67/90\n",
            "14/14 [==============================] - 1s 66ms/step - loss: 1.0058 - accuracy: 0.7539 - val_loss: 1.0960 - val_accuracy: 0.7432\n",
            "Epoch 68/90\n",
            "14/14 [==============================] - 1s 66ms/step - loss: 0.9772 - accuracy: 0.7659 - val_loss: 1.0936 - val_accuracy: 0.7365\n",
            "Epoch 69/90\n",
            "14/14 [==============================] - 1s 66ms/step - loss: 1.0979 - accuracy: 0.7539 - val_loss: 1.2024 - val_accuracy: 0.7365\n",
            "Epoch 70/90\n",
            "14/14 [==============================] - 1s 68ms/step - loss: 1.0670 - accuracy: 0.7755 - val_loss: 1.1730 - val_accuracy: 0.7297\n",
            "Epoch 71/90\n",
            "14/14 [==============================] - 1s 67ms/step - loss: 1.1158 - accuracy: 0.7515 - val_loss: 1.1097 - val_accuracy: 0.7635\n",
            "Epoch 72/90\n",
            "14/14 [==============================] - 1s 66ms/step - loss: 1.1029 - accuracy: 0.7659 - val_loss: 1.1821 - val_accuracy: 0.6959\n",
            "Epoch 73/90\n",
            "14/14 [==============================] - 1s 68ms/step - loss: 1.1027 - accuracy: 0.7695 - val_loss: 1.1126 - val_accuracy: 0.7770\n",
            "\n",
            "Epoch 00073: ReduceLROnPlateau reducing learning rate to 0.0007290000503417104.\n",
            "Epoch 74/90\n",
            "14/14 [==============================] - 1s 68ms/step - loss: 1.0925 - accuracy: 0.7503 - val_loss: 1.0794 - val_accuracy: 0.7703\n",
            "Epoch 75/90\n",
            "14/14 [==============================] - 1s 68ms/step - loss: 1.1593 - accuracy: 0.7527 - val_loss: 1.1269 - val_accuracy: 0.7365\n",
            "Epoch 76/90\n",
            "14/14 [==============================] - 1s 68ms/step - loss: 1.0971 - accuracy: 0.7551 - val_loss: 1.1375 - val_accuracy: 0.7230\n",
            "Epoch 77/90\n",
            "14/14 [==============================] - 1s 68ms/step - loss: 1.0453 - accuracy: 0.7851 - val_loss: 1.1119 - val_accuracy: 0.7838\n",
            "Epoch 78/90\n",
            "14/14 [==============================] - 1s 69ms/step - loss: 0.9917 - accuracy: 0.7875 - val_loss: 1.1739 - val_accuracy: 0.7095\n",
            "Epoch 79/90\n",
            "14/14 [==============================] - 1s 68ms/step - loss: 1.0115 - accuracy: 0.7731 - val_loss: 1.0203 - val_accuracy: 0.7568\n",
            "Epoch 80/90\n",
            "14/14 [==============================] - 1s 69ms/step - loss: 0.9766 - accuracy: 0.7695 - val_loss: 1.0432 - val_accuracy: 0.7838\n",
            "Epoch 81/90\n",
            "14/14 [==============================] - 1s 67ms/step - loss: 1.1168 - accuracy: 0.7395 - val_loss: 1.1987 - val_accuracy: 0.6892\n",
            "Epoch 82/90\n",
            "14/14 [==============================] - 1s 68ms/step - loss: 1.0215 - accuracy: 0.7899 - val_loss: 1.1133 - val_accuracy: 0.7770\n",
            "Epoch 83/90\n",
            "14/14 [==============================] - 1s 69ms/step - loss: 0.9463 - accuracy: 0.8139 - val_loss: 1.0871 - val_accuracy: 0.7500\n",
            "Epoch 84/90\n",
            "14/14 [==============================] - 1s 70ms/step - loss: 1.0151 - accuracy: 0.7743 - val_loss: 1.1933 - val_accuracy: 0.7432\n",
            "\n",
            "Epoch 00084: ReduceLROnPlateau reducing learning rate to 0.0006561000715009868.\n",
            "Epoch 85/90\n",
            "14/14 [==============================] - 1s 67ms/step - loss: 1.0876 - accuracy: 0.7323 - val_loss: 1.3062 - val_accuracy: 0.7095\n",
            "Epoch 86/90\n",
            "14/14 [==============================] - 1s 68ms/step - loss: 0.9859 - accuracy: 0.7995 - val_loss: 1.1156 - val_accuracy: 0.7703\n",
            "Epoch 87/90\n",
            "14/14 [==============================] - 1s 66ms/step - loss: 0.9093 - accuracy: 0.8247 - val_loss: 1.0534 - val_accuracy: 0.7432\n",
            "Epoch 88/90\n",
            "14/14 [==============================] - 1s 68ms/step - loss: 0.8708 - accuracy: 0.8055 - val_loss: 1.0363 - val_accuracy: 0.7770\n",
            "Epoch 89/90\n",
            "14/14 [==============================] - 1s 68ms/step - loss: 0.8268 - accuracy: 0.8151 - val_loss: 1.0556 - val_accuracy: 0.7297\n",
            "\n",
            "Epoch 00089: ReduceLROnPlateau reducing learning rate to 0.0005904900433961303.\n",
            "Epoch 90/90\n",
            "14/14 [==============================] - 1s 68ms/step - loss: 0.8047 - accuracy: 0.8175 - val_loss: 0.9777 - val_accuracy: 0.7905\n"
          ],
          "name": "stdout"
        }
      ]
    },
    {
      "cell_type": "code",
      "metadata": {
        "id": "UJw81PY_Oh49"
      },
      "source": [
        ""
      ],
      "execution_count": null,
      "outputs": []
    },
    {
      "cell_type": "code",
      "metadata": {
        "colab": {
          "base_uri": "https://localhost:8080/",
          "height": 238
        },
        "id": "xy8OHpyC7hBl",
        "outputId": "67bcf682-f3d3-4e95-aaa4-f5ea18cc0f1a"
      },
      "source": [
        "# visualizing losses and accuracy\n",
        "import matplotlib.pyplot as plt\n",
        "%matplotlib inline\n",
        "\n",
        "train_loss=history.history['loss']\n",
        "val_loss=history.history['val_loss']\n",
        "train_acc=history.history['accuracy']\n",
        "val_acc=history.history['val_accuracy']\n",
        "\n",
        "epochs = range(len(train_acc))\n",
        "\n",
        "plt.plot(epochs,train_loss,'r', label='train_loss')\n",
        "plt.plot(epochs,val_loss,'b', label='val_loss')\n",
        "plt.title('train_loss vs val_loss')\n",
        "plt.legend()\n",
        "plt.figure()\n",
        "\n",
        "plt.plot(epochs,train_acc,'r', label='train_acc')\n",
        "plt.plot(epochs,val_acc,'b', label='val_accuracy')\n",
        "plt.title('train_acc vs val_acc')\n",
        "plt.legend()\n",
        "plt.figure()"
      ],
      "execution_count": null,
      "outputs": [
        {
          "output_type": "error",
          "ename": "NameError",
          "evalue": "ignored",
          "traceback": [
            "\u001b[0;31m---------------------------------------------------------------------------\u001b[0m",
            "\u001b[0;31mNameError\u001b[0m                                 Traceback (most recent call last)",
            "\u001b[0;32m<ipython-input-1-f98da1a357d1>\u001b[0m in \u001b[0;36m<module>\u001b[0;34m()\u001b[0m\n\u001b[1;32m      3\u001b[0m \u001b[0mget_ipython\u001b[0m\u001b[0;34m(\u001b[0m\u001b[0;34m)\u001b[0m\u001b[0;34m.\u001b[0m\u001b[0mmagic\u001b[0m\u001b[0;34m(\u001b[0m\u001b[0;34m'matplotlib inline'\u001b[0m\u001b[0;34m)\u001b[0m\u001b[0;34m\u001b[0m\u001b[0;34m\u001b[0m\u001b[0m\n\u001b[1;32m      4\u001b[0m \u001b[0;34m\u001b[0m\u001b[0m\n\u001b[0;32m----> 5\u001b[0;31m \u001b[0mtrain_loss\u001b[0m\u001b[0;34m=\u001b[0m\u001b[0mhistory\u001b[0m\u001b[0;34m.\u001b[0m\u001b[0mhistory\u001b[0m\u001b[0;34m[\u001b[0m\u001b[0;34m'loss'\u001b[0m\u001b[0;34m]\u001b[0m\u001b[0;34m\u001b[0m\u001b[0;34m\u001b[0m\u001b[0m\n\u001b[0m\u001b[1;32m      6\u001b[0m \u001b[0mval_loss\u001b[0m\u001b[0;34m=\u001b[0m\u001b[0mhistory\u001b[0m\u001b[0;34m.\u001b[0m\u001b[0mhistory\u001b[0m\u001b[0;34m[\u001b[0m\u001b[0;34m'val_loss'\u001b[0m\u001b[0;34m]\u001b[0m\u001b[0;34m\u001b[0m\u001b[0;34m\u001b[0m\u001b[0m\n\u001b[1;32m      7\u001b[0m \u001b[0mtrain_acc\u001b[0m\u001b[0;34m=\u001b[0m\u001b[0mhistory\u001b[0m\u001b[0;34m.\u001b[0m\u001b[0mhistory\u001b[0m\u001b[0;34m[\u001b[0m\u001b[0;34m'accuracy'\u001b[0m\u001b[0;34m]\u001b[0m\u001b[0;34m\u001b[0m\u001b[0;34m\u001b[0m\u001b[0m\n",
            "\u001b[0;31mNameError\u001b[0m: name 'history' is not defined"
          ]
        }
      ]
    },
    {
      "cell_type": "code",
      "metadata": {
        "id": "WhoTU5WQS4LJ"
      },
      "source": [
        "labels = ['anger','contempt','disgust','fear','happy','sadness','surprise']"
      ],
      "execution_count": null,
      "outputs": []
    },
    {
      "cell_type": "code",
      "metadata": {
        "id": "83IDqXOIRnHZ"
      },
      "source": [
        "from sklearn.metrics import confusion_matrix \n",
        "import matplotlib \n",
        "%matplotlib inline\n",
        "\n",
        "def plot_confusion_matrix(y_true, y_pred, cmap=plt.cm.Blues):\n",
        "    \"\"\"\n",
        "    The function is used to construct the confusion matrix \n",
        "    \"\"\"\n",
        "    cm = confusion_matrix(y_true, y_pred)\n",
        "    fig = plt.figure(figsize=(7,7))\n",
        "    matplotlib.rcParams.update({'font.size': 16})\n",
        "    ax  = fig.add_subplot(111)\n",
        "    matrix = ax.imshow(cm, interpolation='nearest', cmap=cmap)\n",
        "    fig.colorbar(matrix) \n",
        "    for i in range(0,7):\n",
        "        for j in range(0,7):  \n",
        "            ax.text(j,i,cm[i,j],va='center', ha='center')\n",
        "    ticks = np.arange(len(labels))\n",
        "    ax.set_xticks(ticks)\n",
        "    ax.set_xticklabels(labels, rotation=45)\n",
        "    ax.set_yticks(ticks)\n",
        "    ax.set_yticklabels(labels)\n",
        "    plt.tight_layout()\n",
        "    plt.ylabel('True label')\n",
        "    plt.xlabel('Predicted label')\n",
        "\n",
        " \n",
        "\n"
      ],
      "execution_count": null,
      "outputs": []
    },
    {
      "cell_type": "code",
      "metadata": {
        "colab": {
          "base_uri": "https://localhost:8080/",
          "height": 510
        },
        "id": "BF9rodPKRu_u",
        "outputId": "7067d92e-eb2f-4d67-ead7-b6bcc5bf7bf6"
      },
      "source": [
        "y_prob=final_model.predict([X_test,X_test],batch_size=64,verbose=1)\n",
        "y_pred = [np.argmax(prob) for prob in y_prob]\n",
        "y_true = [np.argmax(true) for true in y_test]\n",
        "plot_confusion_matrix(y_true, y_pred, cmap=plt.cm.YlGnBu)\n",
        "plt.show()"
      ],
      "execution_count": null,
      "outputs": [
        {
          "output_type": "stream",
          "text": [
            "3/3 [==============================] - 0s 16ms/step\n"
          ],
          "name": "stdout"
        },
        {
          "output_type": "display_data",
          "data": {
            "image/png": "[encoded data removed]",
            "text/plain": [
              "<Figure size 504x504 with 2 Axes>"
            ]
          },
          "metadata": {
            "tags": [],
            "needs_background": "light"
          }
        }
      ]
    },
    {
      "cell_type": "code",
      "metadata": {
        "id": "PdMJA6FxVmPn"
      },
      "source": [
        "names = ['ANGRY','DISGUST','FEAR','HAPPY','NEUTRAL','SAD','SURPRISE']\n",
        "\n",
        "def getLabel(id):\n",
        "    return ['ANGRY','DISGUST','FEAR','HAPPY','NEUTRAL','SAD','SURPRISE'][id]"
      ],
      "execution_count": null,
      "outputs": []
    },
    {
      "cell_type": "code",
      "metadata": {
        "colab": {
          "base_uri": "https://localhost:8080/"
        },
        "id": "nfGvUPbZUZt0",
        "outputId": "5080eb9d-efc0-4251-d6be-29472bef42d8"
      },
      "source": [
        "# Evaluating the model\n",
        "score = final_model.evaluate([X_test,X_test], y_test, verbose=0)\n",
        "print('Test Loss:', score[0])\n",
        "print('Test accuracy:', score[1])\n",
        "\n",
        "test_image = X_test[0:1]\n",
        "print (test_image.shape)\n",
        "\n"
      ],
      "execution_count": null,
      "outputs": [
        {
          "output_type": "stream",
          "text": [
            "Test Loss: 0.9777425527572632\n",
            "Test accuracy: 0.7905405163764954\n",
            "(1, 48, 48, 3)\n"
          ],
          "name": "stdout"
        }
      ]
    },
    {
      "cell_type": "code",
      "metadata": {
        "colab": {
          "base_uri": "https://localhost:8080/",
          "height": 319
        },
        "id": "IvO1HIbNy63Z",
        "outputId": "82ea0fbd-1f6b-44b7-e932-2ade154cd8a1"
      },
      "source": [
        "import brewer2mpl\n",
        " \n",
        "def plot_distribution2(y_true, y_pred):\n",
        "    \"\"\"\n",
        "    The function is used to compare the number of true labels as well as prediction results\n",
        "    \"\"\"\n",
        "    colorset = brewer2mpl.get_map('Set3', 'qualitative', 7).mpl_colors\n",
        "    ind = np.arange(1.5,8,1)  # the x locations for the groups\n",
        "    width = 0.35\n",
        "    fig, ax = plt.subplots()\n",
        "    true = ax.bar(ind, np.bincount(y_true), width, color=colorset, alpha=1.0)\n",
        "    pred = ax.bar(ind + width, np.bincount(y_pred), width, color=colorset, alpha=0.3)\n",
        "    ax.set_xticks(np.arange(1.5,8,1))\n",
        "    ax.set_xticklabels(names, rotation=30, fontsize=14)\n",
        "    ax.set_xlim([1.25, 8.5])\n",
        "    ax.set_ylim([0, 60])\n",
        "    ax.set_title('True and Predicted Label Count on CK+ ')\n",
        "    plt.tight_layout()\n",
        "    plt.show()\n",
        " \n",
        "print(len(y_true))\n",
        "print(len(y_pred)) \n",
        "plot_distribution2(y_true, y_pred)\n",
        "\n"
      ],
      "execution_count": null,
      "outputs": [
        {
          "output_type": "stream",
          "text": [
            "148\n",
            "148\n"
          ],
          "name": "stdout"
        },
        {
          "output_type": "display_data",
          "data": {
            "image/png": "[encoded data removed]",
            "text/plain": [
              "<Figure size 432x288 with 1 Axes>"
            ]
          },
          "metadata": {
            "tags": [],
            "needs_background": "light"
          }
        }
      ]
    },
    {
      "cell_type": "code",
      "metadata": {
        "colab": {
          "base_uri": "https://localhost:8080/"
        },
        "id": "U6Wyic-C21Ua",
        "outputId": "d4339734-6304-4f0d-d6b6-0229d0e3122c"
      },
      "source": [
        "pip install brewer2mpl"
      ],
      "execution_count": null,
      "outputs": [
        {
          "output_type": "stream",
          "text": [
            "Collecting brewer2mpl\n",
            "  Downloading https://files.pythonhosted.org/packages/84/57/00c45a199719e617db0875181134fcb3aeef701deae346547ac722eaaf5e/brewer2mpl-1.4.1-py2.py3-none-any.whl\n",
            "Installing collected packages: brewer2mpl\n",
            "Successfully installed brewer2mpl-1.4.1\n"
          ],
          "name": "stdout"
        }
      ]
    }
  ]
}