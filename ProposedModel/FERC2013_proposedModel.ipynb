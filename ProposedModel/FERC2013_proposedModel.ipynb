{
  "nbformat": 4,
  "nbformat_minor": 0,
  "metadata": {
    "colab": {
      "name": "FERC2013_proposedModel",
      "provenance": [],
      "collapsed_sections": []
    },
    "kernelspec": {
      "display_name": "Python 3",
      "name": "python3"
    },
    "language_info": {
      "name": "python"
    },
    "accelerator": "GPU"
  },
  "cells": [
    {
      "cell_type": "code",
      "metadata": {
        "colab": {
          "base_uri": "https://localhost:8080/",
          "height": 35
        },
        "id": "97qfd0DqjNEK",
        "outputId": "e7671904-b089-4594-b34e-127690c804e6"
      },
      "source": [
        "import tensorflow as tf\n",
        "tf.test.gpu_device_name()"
      ],
      "execution_count": null,
      "outputs": [
        {
          "output_type": "execute_result",
          "data": {
            "application/vnd.google.colaboratory.intrinsic+json": {
              "type": "string"
            },
            "text/plain": [
              "'/device:GPU:0'"
            ]
          },
          "metadata": {
            "tags": []
          },
          "execution_count": 1
        }
      ]
    },
    {
      "cell_type": "code",
      "metadata": {
        "id": "_FJXoQyIj1ch"
      },
      "source": [
        "import math\n",
        "import numpy as np\n",
        "import pandas as pd\n",
        "import seaborn as sns\n",
        "from matplotlib import pyplot\n",
        "\n",
        "from sklearn.model_selection import train_test_split\n",
        "from sklearn.preprocessing import LabelEncoder\n",
        "from sklearn.metrics import classification_report\n",
        "\n",
        "import tensorflow as tf\n",
        "from tensorflow.keras import optimizers\n",
        "from tensorflow.keras.datasets import mnist\n",
        "from tensorflow.keras.models import Sequential\n",
        "from tensorflow.keras.layers import Flatten, Dense, Conv2D, MaxPooling2D\n",
        "from tensorflow.keras.layers import Dropout, BatchNormalization, LeakyReLU, Activation\n",
        "from tensorflow.keras.callbacks import Callback, EarlyStopping, ReduceLROnPlateau\n",
        "from tensorflow.keras.preprocessing.image import ImageDataGenerator\n",
        "\n",
        "from keras.utils import np_utils"
      ],
      "execution_count": null,
      "outputs": []
    },
    {
      "cell_type": "code",
      "metadata": {
        "id": "pV2mduz2j558"
      },
      "source": [
        "batch_size = 64\n",
        "epochs = 100\n",
        "width, height = 48, 48"
      ],
      "execution_count": null,
      "outputs": []
    },
    {
      "cell_type": "code",
      "metadata": {
        "colab": {
          "base_uri": "https://localhost:8080/"
        },
        "id": "H1XdcdfEsYj8",
        "outputId": "60a7d676-7786-4028-ab57-c53b768b97e9"
      },
      "source": [
        "from google.colab import drive\n",
        "drive.mount('/content/drive')"
      ],
      "execution_count": null,
      "outputs": [
        {
          "output_type": "stream",
          "text": [
            "Mounted at /content/drive\n"
          ],
          "name": "stdout"
        }
      ]
    },
    {
      "cell_type": "code",
      "metadata": {
        "colab": {
          "base_uri": "https://localhost:8080/",
          "height": 218
        },
        "id": "hSMZ6GHtsreE",
        "outputId": "b656b7f8-cda8-4cc7-9eba-150cc8c6713b"
      },
      "source": [
        "data = pd.read_csv('/content/drive/My Drive/fer.csv')\n",
        "print(data.shape)\n",
        "data.head()"
      ],
      "execution_count": null,
      "outputs": [
        {
          "output_type": "stream",
          "text": [
            "(35887, 3)\n"
          ],
          "name": "stdout"
        },
        {
          "output_type": "execute_result",
          "data": {
            "text/html": [
              "<div>\n",
              "<style scoped>\n",
              "    .dataframe tbody tr th:only-of-type {\n",
              "        vertical-align: middle;\n",
              "    }\n",
              "\n",
              "    .dataframe tbody tr th {\n",
              "        vertical-align: top;\n",
              "    }\n",
              "\n",
              "    .dataframe thead th {\n",
              "        text-align: right;\n",
              "    }\n",
              "</style>\n",
              "<table border=\"1\" class=\"dataframe\">\n",
              "  <thead>\n",
              "    <tr style=\"text-align: right;\">\n",
              "      <th></th>\n",
              "      <th>emotion</th>\n",
              "      <th>pixels</th>\n",
              "      <th>Usage</th>\n",
              "    </tr>\n",
              "  </thead>\n",
              "  <tbody>\n",
              "    <tr>\n",
              "      <th>0</th>\n",
              "      <td>0</td>\n",
              "      <td>70 80 82 72 58 58 60 63 54 58 60 48 89 115 121...</td>\n",
              "      <td>Training</td>\n",
              "    </tr>\n",
              "    <tr>\n",
              "      <th>1</th>\n",
              "      <td>0</td>\n",
              "      <td>151 150 147 155 148 133 111 140 170 174 182 15...</td>\n",
              "      <td>Training</td>\n",
              "    </tr>\n",
              "    <tr>\n",
              "      <th>2</th>\n",
              "      <td>2</td>\n",
              "      <td>231 212 156 164 174 138 161 173 182 200 106 38...</td>\n",
              "      <td>Training</td>\n",
              "    </tr>\n",
              "    <tr>\n",
              "      <th>3</th>\n",
              "      <td>4</td>\n",
              "      <td>24 32 36 30 32 23 19 20 30 41 21 22 32 34 21 1...</td>\n",
              "      <td>Training</td>\n",
              "    </tr>\n",
              "    <tr>\n",
              "      <th>4</th>\n",
              "      <td>6</td>\n",
              "      <td>4 0 0 0 0 0 0 0 0 0 0 0 3 15 23 28 48 50 58 84...</td>\n",
              "      <td>Training</td>\n",
              "    </tr>\n",
              "  </tbody>\n",
              "</table>\n",
              "</div>"
            ],
            "text/plain": [
              "   emotion                                             pixels     Usage\n",
              "0        0  70 80 82 72 58 58 60 63 54 58 60 48 89 115 121...  Training\n",
              "1        0  151 150 147 155 148 133 111 140 170 174 182 15...  Training\n",
              "2        2  231 212 156 164 174 138 161 173 182 200 106 38...  Training\n",
              "3        4  24 32 36 30 32 23 19 20 30 41 21 22 32 34 21 1...  Training\n",
              "4        6  4 0 0 0 0 0 0 0 0 0 0 0 3 15 23 28 48 50 58 84...  Training"
            ]
          },
          "metadata": {
            "tags": []
          },
          "execution_count": 5
        }
      ]
    },
    {
      "cell_type": "code",
      "metadata": {
        "id": "TIV92IPFrbo7"
      },
      "source": [
        "pixValues = data['pixels'].tolist()\n",
        "final = []\n",
        "for data in pixValues:\n",
        "    fe = [int(p) for p in data.split(' ')] \n",
        "    fe = np.asarray(fe).reshape(48, 48)\n",
        "    final.append(fe.astype('float32'))\n",
        "\n",
        "final = np.asarray(final)\n",
        "final = np.expand_dims(final, -1)\n",
        "\n",
        "labels_emo = pd.get_dummies(data['emotion']).to_numpy()"
      ],
      "execution_count": null,
      "outputs": []
    },
    {
      "cell_type": "code",
      "metadata": {
        "id": "mvX7Btisu8iV"
      },
      "source": [
        "X_train, X_test, y_train, y_test = train_test_split(final, labels_emo, test_size=0.1, random_state=42)\n",
        "X_train, X_val, y_train, y_val = train_test_split(X_train, y_train, test_size=0.1, random_state=41)"
      ],
      "execution_count": null,
      "outputs": []
    },
    {
      "cell_type": "code",
      "metadata": {
        "colab": {
          "base_uri": "https://localhost:8080/"
        },
        "id": "gGxEstLmu-Eu",
        "outputId": "eb44c2fa-fc6b-48e1-9611-3b6e83c2e5dd"
      },
      "source": [
        "from tensorflow import keras \n",
        "from tensorflow.keras.models import Sequential\n",
        "from tensorflow.keras.models import Model\n",
        "from tensorflow.keras.layers import Input, Dense, concatenate\n",
        "from tensorflow.keras.optimizers import *\n",
        "from tensorflow.keras.regularizers import *\n",
        "from tensorflow.keras.layers import Flatten, Dense, Conv2D, MaxPooling2D\n",
        "from tensorflow.keras.layers import Dropout, BatchNormalization, LeakyReLU, Activation\n",
        "\n",
        "\n",
        "model = Sequential()\n",
        "\n",
        "model.add(Conv2D(64, kernel_size=(3, 3), activation='relu', input_shape=(48, 48, 1), data_format='channels_last', kernel_regularizer=l2(0.01)))\n",
        "model.add(Conv2D(64, kernel_size=(3, 3), activation='relu', padding='same'))\n",
        "model.add(BatchNormalization())\n",
        "model.add(MaxPooling2D(pool_size=(2, 2), strides=(2, 2)))\n",
        "model.add(Dropout(0.5))\n",
        "\n",
        "model.add(Conv2D(2*64, kernel_size=(3, 3), activation='relu', padding='same'))\n",
        "model.add(BatchNormalization())\n",
        "model.add(Conv2D(2*64, kernel_size=(3, 3), activation='relu', padding='same'))\n",
        "model.add(BatchNormalization())\n",
        "model.add(MaxPooling2D(pool_size=(2, 2), strides=(2, 2)))\n",
        "model.add(Dropout(0.5))\n",
        "\n",
        "model.add(Conv2D(2*2*64, kernel_size=(3, 3), activation='relu', padding='same'))\n",
        "model.add(BatchNormalization())\n",
        "model.add(Conv2D(2*2*64, kernel_size=(3, 3), activation='relu', padding='same'))\n",
        "model.add(BatchNormalization())\n",
        "model.add(MaxPooling2D(pool_size=(2, 2), strides=(2, 2)))\n",
        "model.add(Dropout(0.5))\n",
        "\n",
        "model.add(Conv2D(2*2*2*64, kernel_size=(3, 3), activation='relu', padding='same'))\n",
        "model.add(BatchNormalization())\n",
        "model.add(Conv2D(2*2*2*64, kernel_size=(3, 3), activation='relu', padding='same'))\n",
        "model.add(BatchNormalization())\n",
        "model.add(MaxPooling2D(pool_size=(2, 2), strides=(2, 2)))\n",
        "model.add(Dropout(0.5))\n",
        "\n",
        "model.add(Flatten())\n",
        "\n",
        "model.add(Dense(2*2*2*64, activation='relu'))\n",
        "model.add(Dropout(0.4))\n",
        "model.add(Dense(2*2*64, activation='relu'))\n",
        "model.add(Dropout(0.4))\n",
        "model.add(Dense(2*64, activation='relu'))\n",
        "model.add(Dropout(0.5))\n",
        "\n",
        "model.add(Dense(7, activation='softmax'))\n",
        "model.summary()"
      ],
      "execution_count": null,
      "outputs": [
        {
          "output_type": "stream",
          "text": [
            "Model: \"sequential\"\n",
            "_________________________________________________________________\n",
            "Layer (type)                 Output Shape              Param #   \n",
            "=================================================================\n",
            "conv2d (Conv2D)              (None, 46, 46, 64)        640       \n",
            "_________________________________________________________________\n",
            "conv2d_1 (Conv2D)            (None, 46, 46, 64)        36928     \n",
            "_________________________________________________________________\n",
            "batch_normalization (BatchNo (None, 46, 46, 64)        256       \n",
            "_________________________________________________________________\n",
            "max_pooling2d (MaxPooling2D) (None, 23, 23, 64)        0         \n",
            "_________________________________________________________________\n",
            "dropout (Dropout)            (None, 23, 23, 64)        0         \n",
            "_________________________________________________________________\n",
            "conv2d_2 (Conv2D)            (None, 23, 23, 128)       73856     \n",
            "_________________________________________________________________\n",
            "batch_normalization_1 (Batch (None, 23, 23, 128)       512       \n",
            "_________________________________________________________________\n",
            "conv2d_3 (Conv2D)            (None, 23, 23, 128)       147584    \n",
            "_________________________________________________________________\n",
            "batch_normalization_2 (Batch (None, 23, 23, 128)       512       \n",
            "_________________________________________________________________\n",
            "max_pooling2d_1 (MaxPooling2 (None, 11, 11, 128)       0         \n",
            "_________________________________________________________________\n",
            "dropout_1 (Dropout)          (None, 11, 11, 128)       0         \n",
            "_________________________________________________________________\n",
            "conv2d_4 (Conv2D)            (None, 11, 11, 256)       295168    \n",
            "_________________________________________________________________\n",
            "batch_normalization_3 (Batch (None, 11, 11, 256)       1024      \n",
            "_________________________________________________________________\n",
            "conv2d_5 (Conv2D)            (None, 11, 11, 256)       590080    \n",
            "_________________________________________________________________\n",
            "batch_normalization_4 (Batch (None, 11, 11, 256)       1024      \n",
            "_________________________________________________________________\n",
            "max_pooling2d_2 (MaxPooling2 (None, 5, 5, 256)         0         \n",
            "_________________________________________________________________\n",
            "dropout_2 (Dropout)          (None, 5, 5, 256)         0         \n",
            "_________________________________________________________________\n",
            "conv2d_6 (Conv2D)            (None, 5, 5, 512)         1180160   \n",
            "_________________________________________________________________\n",
            "batch_normalization_5 (Batch (None, 5, 5, 512)         2048      \n",
            "_________________________________________________________________\n",
            "conv2d_7 (Conv2D)            (None, 5, 5, 512)         2359808   \n",
            "_________________________________________________________________\n",
            "batch_normalization_6 (Batch (None, 5, 5, 512)         2048      \n",
            "_________________________________________________________________\n",
            "max_pooling2d_3 (MaxPooling2 (None, 2, 2, 512)         0         \n",
            "_________________________________________________________________\n",
            "dropout_3 (Dropout)          (None, 2, 2, 512)         0         \n",
            "_________________________________________________________________\n",
            "flatten (Flatten)            (None, 2048)              0         \n",
            "_________________________________________________________________\n",
            "dense (Dense)                (None, 512)               1049088   \n",
            "_________________________________________________________________\n",
            "dropout_4 (Dropout)          (None, 512)               0         \n",
            "_________________________________________________________________\n",
            "dense_1 (Dense)              (None, 256)               131328    \n",
            "_________________________________________________________________\n",
            "dropout_5 (Dropout)          (None, 256)               0         \n",
            "_________________________________________________________________\n",
            "dense_2 (Dense)              (None, 128)               32896     \n",
            "_________________________________________________________________\n",
            "dropout_6 (Dropout)          (None, 128)               0         \n",
            "_________________________________________________________________\n",
            "dense_3 (Dense)              (None, 7)                 903       \n",
            "=================================================================\n",
            "Total params: 5,905,863\n",
            "Trainable params: 5,902,151\n",
            "Non-trainable params: 3,712\n",
            "_________________________________________________________________\n"
          ],
          "name": "stdout"
        }
      ]
    },
    {
      "cell_type": "code",
      "metadata": {
        "id": "8JPcITjKvGhM"
      },
      "source": [
        "model.compile(loss='categorical_crossentropy', optimizer='adam', metrics=['accuracy'])"
      ],
      "execution_count": null,
      "outputs": []
    },
    {
      "cell_type": "code",
      "metadata": {
        "id": "N3Yi_h9xvK1O"
      },
      "source": [
        "lr_R = ReduceLROnPlateau(monitor='val_loss', factor=0.9, patience=3, verbose=1)"
      ],
      "execution_count": null,
      "outputs": []
    },
    {
      "cell_type": "code",
      "metadata": {
        "colab": {
          "base_uri": "https://localhost:8080/"
        },
        "id": "kPXgEvMuvOHT",
        "outputId": "810756b8-11ae-43c9-8f8b-63e46d0350ce"
      },
      "source": [
        "history=model.fit(np.array(X_train), np.array(y_train),\n",
        "          batch_size=batch_size,\n",
        "          epochs=epochs,\n",
        "          verbose=1,\n",
        "          validation_data=(np.array(X_test), np.array(y_test)),\n",
        "          shuffle=True,\n",
        "          callbacks=[lr_R])"
      ],
      "execution_count": null,
      "outputs": [
        {
          "output_type": "stream",
          "text": [
            "Epoch 1/100\n",
            "455/455 [==============================] - 54s 45ms/step - loss: 2.0379 - accuracy: 0.2085 - val_loss: 1.8270 - val_accuracy: 0.2455\n",
            "Epoch 2/100\n",
            "455/455 [==============================] - 20s 44ms/step - loss: 1.8342 - accuracy: 0.2472 - val_loss: 1.8263 - val_accuracy: 0.2458\n",
            "Epoch 3/100\n",
            "455/455 [==============================] - 20s 43ms/step - loss: 1.7757 - accuracy: 0.2778 - val_loss: 1.7962 - val_accuracy: 0.2611\n",
            "Epoch 4/100\n",
            "455/455 [==============================] - 20s 43ms/step - loss: 1.7053 - accuracy: 0.3087 - val_loss: 1.6019 - val_accuracy: 0.3569\n",
            "Epoch 5/100\n",
            "455/455 [==============================] - 20s 43ms/step - loss: 1.6107 - accuracy: 0.3655 - val_loss: 1.6191 - val_accuracy: 0.3447\n",
            "Epoch 6/100\n",
            "455/455 [==============================] - 20s 43ms/step - loss: 1.5178 - accuracy: 0.4082 - val_loss: 1.5400 - val_accuracy: 0.3987\n",
            "Epoch 7/100\n",
            "455/455 [==============================] - 20s 43ms/step - loss: 1.4611 - accuracy: 0.4298 - val_loss: 1.4073 - val_accuracy: 0.4748\n",
            "Epoch 8/100\n",
            "455/455 [==============================] - 20s 43ms/step - loss: 1.4163 - accuracy: 0.4545 - val_loss: 1.3098 - val_accuracy: 0.5007\n",
            "Epoch 9/100\n",
            "455/455 [==============================] - 20s 43ms/step - loss: 1.3635 - accuracy: 0.4803 - val_loss: 1.2651 - val_accuracy: 0.5135\n",
            "Epoch 10/100\n",
            "455/455 [==============================] - 20s 43ms/step - loss: 1.3295 - accuracy: 0.4988 - val_loss: 1.4614 - val_accuracy: 0.4648\n",
            "Epoch 11/100\n",
            "455/455 [==============================] - 20s 43ms/step - loss: 1.2962 - accuracy: 0.5089 - val_loss: 1.3089 - val_accuracy: 0.5004\n",
            "Epoch 12/100\n",
            "455/455 [==============================] - 20s 43ms/step - loss: 1.2700 - accuracy: 0.5282 - val_loss: 1.2242 - val_accuracy: 0.5222\n",
            "Epoch 13/100\n",
            "455/455 [==============================] - 20s 43ms/step - loss: 1.2418 - accuracy: 0.5393 - val_loss: 1.3252 - val_accuracy: 0.5029\n",
            "Epoch 14/100\n",
            "455/455 [==============================] - 20s 43ms/step - loss: 1.2187 - accuracy: 0.5497 - val_loss: 1.2679 - val_accuracy: 0.5169\n",
            "Epoch 15/100\n",
            "455/455 [==============================] - 20s 43ms/step - loss: 1.1922 - accuracy: 0.5587 - val_loss: 1.2426 - val_accuracy: 0.5255\n",
            "\n",
            "Epoch 00015: ReduceLROnPlateau reducing learning rate to 0.0009000000427477062.\n",
            "Epoch 16/100\n",
            "455/455 [==============================] - 20s 43ms/step - loss: 1.1630 - accuracy: 0.5749 - val_loss: 1.1423 - val_accuracy: 0.5734\n",
            "Epoch 17/100\n",
            "455/455 [==============================] - 20s 43ms/step - loss: 1.1342 - accuracy: 0.5842 - val_loss: 1.1383 - val_accuracy: 0.5745\n",
            "Epoch 18/100\n",
            "455/455 [==============================] - 20s 43ms/step - loss: 1.1107 - accuracy: 0.5944 - val_loss: 1.1104 - val_accuracy: 0.6004\n",
            "Epoch 19/100\n",
            "455/455 [==============================] - 20s 43ms/step - loss: 1.0905 - accuracy: 0.6022 - val_loss: 1.0820 - val_accuracy: 0.5996\n",
            "Epoch 20/100\n",
            "455/455 [==============================] - 20s 43ms/step - loss: 1.0678 - accuracy: 0.6126 - val_loss: 1.1064 - val_accuracy: 0.5932\n",
            "Epoch 21/100\n",
            "455/455 [==============================] - 20s 43ms/step - loss: 1.0500 - accuracy: 0.6210 - val_loss: 1.0690 - val_accuracy: 0.6074\n",
            "Epoch 22/100\n",
            "455/455 [==============================] - 20s 43ms/step - loss: 1.0170 - accuracy: 0.6297 - val_loss: 1.1082 - val_accuracy: 0.5846\n",
            "Epoch 23/100\n",
            "455/455 [==============================] - 20s 43ms/step - loss: 1.0032 - accuracy: 0.6376 - val_loss: 1.0519 - val_accuracy: 0.6160\n",
            "Epoch 24/100\n",
            "455/455 [==============================] - 20s 43ms/step - loss: 0.9731 - accuracy: 0.6449 - val_loss: 1.0513 - val_accuracy: 0.6147\n",
            "Epoch 25/100\n",
            "455/455 [==============================] - 20s 43ms/step - loss: 0.9687 - accuracy: 0.6512 - val_loss: 1.0492 - val_accuracy: 0.6166\n",
            "Epoch 26/100\n",
            "455/455 [==============================] - 20s 43ms/step - loss: 0.9489 - accuracy: 0.6553 - val_loss: 1.0917 - val_accuracy: 0.6127\n",
            "Epoch 27/100\n",
            "455/455 [==============================] - 20s 43ms/step - loss: 0.9348 - accuracy: 0.6638 - val_loss: 1.0354 - val_accuracy: 0.6250\n",
            "Epoch 28/100\n",
            "455/455 [==============================] - 20s 43ms/step - loss: 0.9185 - accuracy: 0.6689 - val_loss: 1.0247 - val_accuracy: 0.6294\n",
            "Epoch 29/100\n",
            "455/455 [==============================] - 20s 43ms/step - loss: 0.9016 - accuracy: 0.6738 - val_loss: 1.0583 - val_accuracy: 0.6258\n",
            "Epoch 30/100\n",
            "455/455 [==============================] - 20s 43ms/step - loss: 0.8772 - accuracy: 0.6823 - val_loss: 1.0717 - val_accuracy: 0.6155\n",
            "Epoch 31/100\n",
            "455/455 [==============================] - 20s 43ms/step - loss: 0.8650 - accuracy: 0.6895 - val_loss: 1.0766 - val_accuracy: 0.6255\n",
            "\n",
            "Epoch 00031: ReduceLROnPlateau reducing learning rate to 0.0008100000384729356.\n",
            "Epoch 32/100\n",
            "455/455 [==============================] - 20s 43ms/step - loss: 0.8402 - accuracy: 0.6955 - val_loss: 1.0494 - val_accuracy: 0.6347\n",
            "Epoch 33/100\n",
            "455/455 [==============================] - 20s 43ms/step - loss: 0.8213 - accuracy: 0.7050 - val_loss: 1.0340 - val_accuracy: 0.6342\n",
            "Epoch 34/100\n",
            "455/455 [==============================] - 20s 43ms/step - loss: 0.8034 - accuracy: 0.7131 - val_loss: 1.0802 - val_accuracy: 0.6239\n",
            "\n",
            "Epoch 00034: ReduceLROnPlateau reducing learning rate to 0.0007290000503417104.\n",
            "Epoch 35/100\n",
            "455/455 [==============================] - 20s 43ms/step - loss: 0.7719 - accuracy: 0.7213 - val_loss: 1.0773 - val_accuracy: 0.6406\n",
            "Epoch 36/100\n",
            "455/455 [==============================] - 20s 43ms/step - loss: 0.7525 - accuracy: 0.7296 - val_loss: 1.0676 - val_accuracy: 0.6425\n",
            "Epoch 37/100\n",
            "455/455 [==============================] - 20s 43ms/step - loss: 0.7469 - accuracy: 0.7346 - val_loss: 1.0342 - val_accuracy: 0.6461\n",
            "\n",
            "Epoch 00037: ReduceLROnPlateau reducing learning rate to 0.0006561000715009868.\n",
            "Epoch 38/100\n",
            "455/455 [==============================] - 20s 43ms/step - loss: 0.7142 - accuracy: 0.7444 - val_loss: 1.1246 - val_accuracy: 0.6333\n",
            "Epoch 39/100\n",
            "455/455 [==============================] - 20s 43ms/step - loss: 0.6998 - accuracy: 0.7503 - val_loss: 1.1033 - val_accuracy: 0.6453\n",
            "Epoch 40/100\n",
            "455/455 [==============================] - 20s 43ms/step - loss: 0.6758 - accuracy: 0.7597 - val_loss: 1.0382 - val_accuracy: 0.6542\n",
            "\n",
            "Epoch 00040: ReduceLROnPlateau reducing learning rate to 0.0005904900433961303.\n",
            "Epoch 41/100\n",
            "455/455 [==============================] - 20s 43ms/step - loss: 0.6534 - accuracy: 0.7647 - val_loss: 1.0994 - val_accuracy: 0.6545\n",
            "Epoch 42/100\n",
            "455/455 [==============================] - 20s 43ms/step - loss: 0.6427 - accuracy: 0.7713 - val_loss: 1.1341 - val_accuracy: 0.6545\n",
            "Epoch 43/100\n",
            "455/455 [==============================] - 20s 43ms/step - loss: 0.6217 - accuracy: 0.7798 - val_loss: 1.1332 - val_accuracy: 0.6420\n",
            "\n",
            "Epoch 00043: ReduceLROnPlateau reducing learning rate to 0.0005314410547725857.\n",
            "Epoch 44/100\n",
            "455/455 [==============================] - 20s 43ms/step - loss: 0.6078 - accuracy: 0.7832 - val_loss: 1.1304 - val_accuracy: 0.6378\n",
            "Epoch 45/100\n",
            "455/455 [==============================] - 20s 43ms/step - loss: 0.5878 - accuracy: 0.7948 - val_loss: 1.1409 - val_accuracy: 0.6344\n",
            "Epoch 46/100\n",
            "455/455 [==============================] - 20s 43ms/step - loss: 0.5775 - accuracy: 0.7939 - val_loss: 1.1133 - val_accuracy: 0.6478\n",
            "\n",
            "Epoch 00046: ReduceLROnPlateau reducing learning rate to 0.00047829695977270604.\n",
            "Epoch 47/100\n",
            "455/455 [==============================] - 20s 43ms/step - loss: 0.5601 - accuracy: 0.8008 - val_loss: 1.1792 - val_accuracy: 0.6492\n",
            "Epoch 48/100\n",
            "455/455 [==============================] - 20s 43ms/step - loss: 0.5452 - accuracy: 0.8065 - val_loss: 1.2404 - val_accuracy: 0.6408\n",
            "Epoch 49/100\n",
            "455/455 [==============================] - 20s 43ms/step - loss: 0.5338 - accuracy: 0.8129 - val_loss: 1.1148 - val_accuracy: 0.6475\n",
            "\n",
            "Epoch 00049: ReduceLROnPlateau reducing learning rate to 0.0004304672533180565.\n",
            "Epoch 50/100\n",
            "455/455 [==============================] - 20s 43ms/step - loss: 0.5201 - accuracy: 0.8197 - val_loss: 1.2281 - val_accuracy: 0.6478\n",
            "Epoch 51/100\n",
            "455/455 [==============================] - 20s 43ms/step - loss: 0.5014 - accuracy: 0.8234 - val_loss: 1.1732 - val_accuracy: 0.6606\n",
            "Epoch 52/100\n",
            "455/455 [==============================] - 20s 43ms/step - loss: 0.4941 - accuracy: 0.8269 - val_loss: 1.1950 - val_accuracy: 0.6556\n",
            "\n",
            "Epoch 00052: ReduceLROnPlateau reducing learning rate to 0.00038742052274756136.\n",
            "Epoch 53/100\n",
            "455/455 [==============================] - 20s 44ms/step - loss: 0.4701 - accuracy: 0.8334 - val_loss: 1.2091 - val_accuracy: 0.6592\n",
            "Epoch 54/100\n",
            "455/455 [==============================] - 20s 43ms/step - loss: 0.4607 - accuracy: 0.8356 - val_loss: 1.2061 - val_accuracy: 0.6531\n",
            "Epoch 55/100\n",
            "455/455 [==============================] - 20s 43ms/step - loss: 0.4501 - accuracy: 0.8421 - val_loss: 1.2520 - val_accuracy: 0.6629\n",
            "\n",
            "Epoch 00055: ReduceLROnPlateau reducing learning rate to 0.0003486784757114947.\n",
            "Epoch 56/100\n",
            "455/455 [==============================] - 20s 43ms/step - loss: 0.4431 - accuracy: 0.8433 - val_loss: 1.2820 - val_accuracy: 0.6584\n",
            "Epoch 57/100\n",
            "455/455 [==============================] - 20s 43ms/step - loss: 0.4311 - accuracy: 0.8490 - val_loss: 1.2675 - val_accuracy: 0.6617\n",
            "Epoch 58/100\n",
            "455/455 [==============================] - 20s 43ms/step - loss: 0.4226 - accuracy: 0.8536 - val_loss: 1.2743 - val_accuracy: 0.6576\n",
            "\n",
            "Epoch 00058: ReduceLROnPlateau reducing learning rate to 0.00031381062290165574.\n",
            "Epoch 59/100\n",
            "455/455 [==============================] - 20s 44ms/step - loss: 0.4162 - accuracy: 0.8544 - val_loss: 1.2793 - val_accuracy: 0.6673\n",
            "Epoch 60/100\n",
            "455/455 [==============================] - 19s 43ms/step - loss: 0.4073 - accuracy: 0.8570 - val_loss: 1.2764 - val_accuracy: 0.6595\n",
            "Epoch 61/100\n",
            "455/455 [==============================] - 20s 43ms/step - loss: 0.3991 - accuracy: 0.8601 - val_loss: 1.2718 - val_accuracy: 0.6573\n",
            "\n",
            "Epoch 00061: ReduceLROnPlateau reducing learning rate to 0.0002824295632308349.\n",
            "Epoch 62/100\n",
            "455/455 [==============================] - 20s 43ms/step - loss: 0.3813 - accuracy: 0.8680 - val_loss: 1.3509 - val_accuracy: 0.6539\n",
            "Epoch 63/100\n",
            "455/455 [==============================] - 20s 43ms/step - loss: 0.3808 - accuracy: 0.8689 - val_loss: 1.3354 - val_accuracy: 0.6615\n",
            "Epoch 64/100\n",
            "455/455 [==============================] - 20s 43ms/step - loss: 0.3659 - accuracy: 0.8745 - val_loss: 1.3455 - val_accuracy: 0.6640\n",
            "\n",
            "Epoch 00064: ReduceLROnPlateau reducing learning rate to 0.00025418660952709616.\n",
            "Epoch 65/100\n",
            "455/455 [==============================] - 20s 43ms/step - loss: 0.3709 - accuracy: 0.8727 - val_loss: 1.3319 - val_accuracy: 0.6695\n",
            "Epoch 66/100\n",
            "455/455 [==============================] - 20s 43ms/step - loss: 0.3566 - accuracy: 0.8777 - val_loss: 1.3303 - val_accuracy: 0.6617\n",
            "Epoch 67/100\n",
            "455/455 [==============================] - 20s 43ms/step - loss: 0.3520 - accuracy: 0.8804 - val_loss: 1.3592 - val_accuracy: 0.6623\n",
            "\n",
            "Epoch 00067: ReduceLROnPlateau reducing learning rate to 0.00022876793809700757.\n",
            "Epoch 68/100\n",
            "455/455 [==============================] - 20s 43ms/step - loss: 0.3402 - accuracy: 0.8818 - val_loss: 1.3473 - val_accuracy: 0.6567\n",
            "Epoch 69/100\n",
            "455/455 [==============================] - 20s 43ms/step - loss: 0.3300 - accuracy: 0.8854 - val_loss: 1.4182 - val_accuracy: 0.6701\n",
            "Epoch 70/100\n",
            "455/455 [==============================] - 20s 43ms/step - loss: 0.3351 - accuracy: 0.8846 - val_loss: 1.3883 - val_accuracy: 0.6604\n",
            "\n",
            "Epoch 00070: ReduceLROnPlateau reducing learning rate to 0.00020589114428730683.\n",
            "Epoch 71/100\n",
            "455/455 [==============================] - 20s 43ms/step - loss: 0.3256 - accuracy: 0.8873 - val_loss: 1.3860 - val_accuracy: 0.6615\n",
            "Epoch 72/100\n",
            "455/455 [==============================] - 20s 43ms/step - loss: 0.3069 - accuracy: 0.8945 - val_loss: 1.4535 - val_accuracy: 0.6617\n",
            "Epoch 73/100\n",
            "455/455 [==============================] - 20s 43ms/step - loss: 0.3118 - accuracy: 0.8934 - val_loss: 1.3764 - val_accuracy: 0.6673\n",
            "\n",
            "Epoch 00073: ReduceLROnPlateau reducing learning rate to 0.00018530203378759326.\n",
            "Epoch 74/100\n",
            "455/455 [==============================] - 20s 43ms/step - loss: 0.3010 - accuracy: 0.8943 - val_loss: 1.4824 - val_accuracy: 0.6654\n",
            "Epoch 75/100\n",
            "455/455 [==============================] - 20s 43ms/step - loss: 0.2977 - accuracy: 0.8986 - val_loss: 1.4675 - val_accuracy: 0.6592\n",
            "Epoch 76/100\n",
            "455/455 [==============================] - 20s 43ms/step - loss: 0.2907 - accuracy: 0.9002 - val_loss: 1.5300 - val_accuracy: 0.6656\n",
            "\n",
            "Epoch 00076: ReduceLROnPlateau reducing learning rate to 0.00016677183302817866.\n",
            "Epoch 77/100\n",
            "455/455 [==============================] - 20s 43ms/step - loss: 0.2908 - accuracy: 0.8986 - val_loss: 1.4605 - val_accuracy: 0.6651\n",
            "Epoch 78/100\n",
            "455/455 [==============================] - 20s 43ms/step - loss: 0.2778 - accuracy: 0.9034 - val_loss: 1.4742 - val_accuracy: 0.6617\n",
            "Epoch 79/100\n",
            "455/455 [==============================] - 20s 43ms/step - loss: 0.2817 - accuracy: 0.9045 - val_loss: 1.4834 - val_accuracy: 0.6595\n",
            "\n",
            "Epoch 00079: ReduceLROnPlateau reducing learning rate to 0.00015009464841568844.\n",
            "Epoch 80/100\n",
            "455/455 [==============================] - 20s 43ms/step - loss: 0.2809 - accuracy: 0.9046 - val_loss: 1.4679 - val_accuracy: 0.6637\n",
            "Epoch 81/100\n",
            "455/455 [==============================] - 20s 43ms/step - loss: 0.2767 - accuracy: 0.9059 - val_loss: 1.4900 - val_accuracy: 0.6631\n",
            "Epoch 82/100\n",
            "455/455 [==============================] - 20s 44ms/step - loss: 0.2739 - accuracy: 0.9072 - val_loss: 1.4776 - val_accuracy: 0.6612\n",
            "\n",
            "Epoch 00082: ReduceLROnPlateau reducing learning rate to 0.0001350851875031367.\n",
            "Epoch 83/100\n",
            "455/455 [==============================] - 20s 43ms/step - loss: 0.2617 - accuracy: 0.9107 - val_loss: 1.5105 - val_accuracy: 0.6570\n",
            "Epoch 84/100\n",
            "455/455 [==============================] - 20s 43ms/step - loss: 0.2554 - accuracy: 0.9136 - val_loss: 1.4831 - val_accuracy: 0.6626\n",
            "Epoch 85/100\n",
            "455/455 [==============================] - 20s 43ms/step - loss: 0.2512 - accuracy: 0.9158 - val_loss: 1.6000 - val_accuracy: 0.6598\n",
            "\n",
            "Epoch 00085: ReduceLROnPlateau reducing learning rate to 0.00012157666351413355.\n",
            "Epoch 86/100\n",
            "455/455 [==============================] - 20s 43ms/step - loss: 0.2528 - accuracy: 0.9150 - val_loss: 1.4954 - val_accuracy: 0.6695\n",
            "Epoch 87/100\n",
            "455/455 [==============================] - 20s 43ms/step - loss: 0.2530 - accuracy: 0.9155 - val_loss: 1.5027 - val_accuracy: 0.6581\n",
            "Epoch 88/100\n",
            "455/455 [==============================] - 20s 43ms/step - loss: 0.2506 - accuracy: 0.9153 - val_loss: 1.5229 - val_accuracy: 0.6648\n",
            "\n",
            "Epoch 00088: ReduceLROnPlateau reducing learning rate to 0.00010941899454337544.\n",
            "Epoch 89/100\n",
            "455/455 [==============================] - 20s 43ms/step - loss: 0.2428 - accuracy: 0.9171 - val_loss: 1.5350 - val_accuracy: 0.6617\n",
            "Epoch 90/100\n",
            "455/455 [==============================] - 20s 43ms/step - loss: 0.2402 - accuracy: 0.9175 - val_loss: 1.5656 - val_accuracy: 0.6654\n",
            "Epoch 91/100\n",
            "455/455 [==============================] - 20s 43ms/step - loss: 0.2411 - accuracy: 0.9166 - val_loss: 1.5153 - val_accuracy: 0.6640\n",
            "\n",
            "Epoch 00091: ReduceLROnPlateau reducing learning rate to 9.847709443420172e-05.\n",
            "Epoch 92/100\n",
            "455/455 [==============================] - 20s 43ms/step - loss: 0.2323 - accuracy: 0.9209 - val_loss: 1.6027 - val_accuracy: 0.6670\n",
            "Epoch 93/100\n",
            "455/455 [==============================] - 20s 43ms/step - loss: 0.2301 - accuracy: 0.9229 - val_loss: 1.6096 - val_accuracy: 0.6643\n",
            "Epoch 94/100\n",
            "455/455 [==============================] - 20s 43ms/step - loss: 0.2296 - accuracy: 0.9228 - val_loss: 1.5400 - val_accuracy: 0.6651\n",
            "\n",
            "Epoch 00094: ReduceLROnPlateau reducing learning rate to 8.862938630045391e-05.\n",
            "Epoch 95/100\n",
            "455/455 [==============================] - 20s 43ms/step - loss: 0.2287 - accuracy: 0.9236 - val_loss: 1.5946 - val_accuracy: 0.6637\n",
            "Epoch 96/100\n",
            "455/455 [==============================] - 20s 43ms/step - loss: 0.2246 - accuracy: 0.9233 - val_loss: 1.5656 - val_accuracy: 0.6682\n",
            "Epoch 97/100\n",
            "455/455 [==============================] - 20s 43ms/step - loss: 0.2262 - accuracy: 0.9233 - val_loss: 1.5998 - val_accuracy: 0.6668\n",
            "\n",
            "Epoch 00097: ReduceLROnPlateau reducing learning rate to 7.976644701557234e-05.\n",
            "Epoch 98/100\n",
            "455/455 [==============================] - 20s 43ms/step - loss: 0.2179 - accuracy: 0.9268 - val_loss: 1.6505 - val_accuracy: 0.6654\n",
            "Epoch 99/100\n",
            "455/455 [==============================] - 20s 43ms/step - loss: 0.2174 - accuracy: 0.9267 - val_loss: 1.5906 - val_accuracy: 0.6615\n",
            "Epoch 100/100\n",
            "455/455 [==============================] - 20s 43ms/step - loss: 0.2126 - accuracy: 0.9287 - val_loss: 1.6282 - val_accuracy: 0.6634\n",
            "\n",
            "Epoch 00100: ReduceLROnPlateau reducing learning rate to 7.178980231401511e-05.\n"
          ],
          "name": "stdout"
        }
      ]
    },
    {
      "cell_type": "code",
      "metadata": {
        "colab": {
          "base_uri": "https://localhost:8080/"
        },
        "id": "_nBhwcSEvUbJ",
        "outputId": "40db9b5d-8997-4613-c262-2195edb77546"
      },
      "source": [
        "scores = model.evaluate(np.array(X_test), np.array(y_test), batch_size=64)\n",
        "print(\"Loss: \" + str(scores[0]))\n",
        "print(\"Accuracy: \" + str(scores[1]))"
      ],
      "execution_count": null,
      "outputs": [
        {
          "output_type": "stream",
          "text": [
            "57/57 [==============================] - 2s 30ms/step - loss: 1.6081 - accuracy: 0.6721\n",
            "Loss: 1.6080595254898071\n",
            "Accuracy: 0.6720535159111023\n"
          ],
          "name": "stdout"
        }
      ]
    },
    {
      "cell_type": "code",
      "metadata": {
        "colab": {
          "base_uri": "https://localhost:8080/",
          "height": 581
        },
        "id": "GOEHbcnM4jEE",
        "outputId": "f705f2e7-635e-4efe-e13a-ecf1b31faf77"
      },
      "source": [
        "# visualizing losses and accuracy\n",
        "%matplotlib inline\n",
        "import matplotlib.pyplot as plt\n",
        "\n",
        "train_loss=history.history['loss']\n",
        "val_loss=history.history['val_loss']\n",
        "train_acc=history.history['accuracy']\n",
        "val_acc=history.history['val_accuracy']\n",
        "\n",
        "epochs = range(len(train_acc))\n",
        "\n",
        "plt.plot(epochs,train_loss,'r', label='train_loss')\n",
        "plt.plot(epochs,val_loss,'b', label='val_loss')\n",
        "plt.title('train_loss vs val_loss')\n",
        "plt.legend()\n",
        "plt.figure()\n",
        "\n",
        "plt.plot(epochs,train_acc,'r', label='train_acc')\n",
        "plt.plot(epochs,val_acc,'b', label='val_accuracy')\n",
        "plt.title('train_acc vs val_acc')\n",
        "plt.legend()\n",
        "plt.figure()"
      ],
      "execution_count": null,
      "outputs": [
        {
          "output_type": "execute_result",
          "data": {
            "text/plain": [
              "<Figure size 432x288 with 0 Axes>"
            ]
          },
          "metadata": {
            "tags": []
          },
          "execution_count": 13
        },
        {
          "output_type": "display_data",
          "data": {
            "image/png": "[encoded data removed]",
            "text/plain": [
              "<Figure size 432x288 with 1 Axes>"
            ]
          },
          "metadata": {
            "tags": [],
            "needs_background": "light"
          }
        },
        {
          "output_type": "display_data",
          "data": {
            "image/png": "[encoded data removed]",
            "text/plain": [
              "<Figure size 432x288 with 1 Axes>"
            ]
          },
          "metadata": {
            "tags": [],
            "needs_background": "light"
          }
        },
        {
          "output_type": "display_data",
          "data": {
            "text/plain": [
              "<Figure size 432x288 with 0 Axes>"
            ]
          },
          "metadata": {
            "tags": []
          }
        }
      ]
    },
    {
      "cell_type": "code",
      "metadata": {
        "id": "sBcqkUdL4nJu"
      },
      "source": [
        "labels = ['anger','neutral','disgust','fear','happy','sadness','surprise']\n",
        "from sklearn.metrics import confusion_matrix \n",
        "import matplotlib \n",
        "%matplotlib inline\n",
        "\n",
        "def plot_confusion_matrix(y_true, y_pred, cmap=plt.cm.Blues):\n",
        "    \"\"\"\n",
        "    The function is used to construct the confusion matrix \n",
        "    \"\"\"\n",
        "    cm = confusion_matrix(y_true, y_pred)\n",
        "    fig = plt.figure(figsize=(7,7))\n",
        "    matplotlib.rcParams.update({'font.size': 16})\n",
        "    ax  = fig.add_subplot(111)\n",
        "    matrix = ax.imshow(cm, interpolation='nearest', cmap=cmap)\n",
        "    fig.colorbar(matrix) \n",
        "    for i in range(0,7):\n",
        "        for j in range(0,7):  \n",
        "            ax.text(j,i,cm[i,j],va='center', ha='center')\n",
        "    ticks = np.arange(len(labels))\n",
        "    ax.set_xticks(ticks)\n",
        "    ax.set_xticklabels(labels, rotation=45)\n",
        "    ax.set_yticks(ticks)\n",
        "    ax.set_yticklabels(labels)\n",
        "    plt.tight_layout()\n",
        "    plt.ylabel('True label')\n",
        "    plt.xlabel('Predicted label')"
      ],
      "execution_count": null,
      "outputs": []
    },
    {
      "cell_type": "code",
      "metadata": {
        "colab": {
          "base_uri": "https://localhost:8080/",
          "height": 238
        },
        "id": "Le7NL0FZ4xJM",
        "outputId": "2a014ae8-8877-4810-a7e7-48500e1692c7"
      },
      "source": [
        "y_prob=final_model.predict([X_test,X_test],batch_size=64,verbose=1)\n",
        "y_pred = [np.argmax(prob) for prob in y_prob]\n",
        "y_true = [np.argmax(true) for true in y_test]\n",
        "plot_confusion_matrix(y_true, y_pred, cmap=plt.cm.YlGnBu)\n",
        "plt.show()"
      ],
      "execution_count": null,
      "outputs": [
        {
          "output_type": "error",
          "ename": "NameError",
          "evalue": "ignored",
          "traceback": [
            "\u001b[0;31m---------------------------------------------------------------------------\u001b[0m",
            "\u001b[0;31mNameError\u001b[0m                                 Traceback (most recent call last)",
            "\u001b[0;32m<ipython-input-15-d92264b70c80>\u001b[0m in \u001b[0;36m<module>\u001b[0;34m()\u001b[0m\n\u001b[0;32m----> 1\u001b[0;31m \u001b[0my_prob\u001b[0m\u001b[0;34m=\u001b[0m\u001b[0mfinal_model\u001b[0m\u001b[0;34m.\u001b[0m\u001b[0mpredict\u001b[0m\u001b[0;34m(\u001b[0m\u001b[0;34m[\u001b[0m\u001b[0mX_test\u001b[0m\u001b[0;34m,\u001b[0m\u001b[0mX_test\u001b[0m\u001b[0;34m]\u001b[0m\u001b[0;34m,\u001b[0m\u001b[0mbatch_size\u001b[0m\u001b[0;34m=\u001b[0m\u001b[0;36m64\u001b[0m\u001b[0;34m,\u001b[0m\u001b[0mverbose\u001b[0m\u001b[0;34m=\u001b[0m\u001b[0;36m1\u001b[0m\u001b[0;34m)\u001b[0m\u001b[0;34m\u001b[0m\u001b[0;34m\u001b[0m\u001b[0m\n\u001b[0m\u001b[1;32m      2\u001b[0m \u001b[0my_pred\u001b[0m \u001b[0;34m=\u001b[0m \u001b[0;34m[\u001b[0m\u001b[0mnp\u001b[0m\u001b[0;34m.\u001b[0m\u001b[0margmax\u001b[0m\u001b[0;34m(\u001b[0m\u001b[0mprob\u001b[0m\u001b[0;34m)\u001b[0m \u001b[0;32mfor\u001b[0m \u001b[0mprob\u001b[0m \u001b[0;32min\u001b[0m \u001b[0my_prob\u001b[0m\u001b[0;34m]\u001b[0m\u001b[0;34m\u001b[0m\u001b[0;34m\u001b[0m\u001b[0m\n\u001b[1;32m      3\u001b[0m \u001b[0my_true\u001b[0m \u001b[0;34m=\u001b[0m \u001b[0;34m[\u001b[0m\u001b[0mnp\u001b[0m\u001b[0;34m.\u001b[0m\u001b[0margmax\u001b[0m\u001b[0;34m(\u001b[0m\u001b[0mtrue\u001b[0m\u001b[0;34m)\u001b[0m \u001b[0;32mfor\u001b[0m \u001b[0mtrue\u001b[0m \u001b[0;32min\u001b[0m \u001b[0my_test\u001b[0m\u001b[0;34m]\u001b[0m\u001b[0;34m\u001b[0m\u001b[0;34m\u001b[0m\u001b[0m\n\u001b[1;32m      4\u001b[0m \u001b[0mplot_confusion_matrix\u001b[0m\u001b[0;34m(\u001b[0m\u001b[0my_true\u001b[0m\u001b[0;34m,\u001b[0m \u001b[0my_pred\u001b[0m\u001b[0;34m,\u001b[0m \u001b[0mcmap\u001b[0m\u001b[0;34m=\u001b[0m\u001b[0mplt\u001b[0m\u001b[0;34m.\u001b[0m\u001b[0mcm\u001b[0m\u001b[0;34m.\u001b[0m\u001b[0mYlGnBu\u001b[0m\u001b[0;34m)\u001b[0m\u001b[0;34m\u001b[0m\u001b[0;34m\u001b[0m\u001b[0m\n\u001b[1;32m      5\u001b[0m \u001b[0mplt\u001b[0m\u001b[0;34m.\u001b[0m\u001b[0mshow\u001b[0m\u001b[0;34m(\u001b[0m\u001b[0;34m)\u001b[0m\u001b[0;34m\u001b[0m\u001b[0;34m\u001b[0m\u001b[0m\n",
            "\u001b[0;31mNameError\u001b[0m: name 'final_model' is not defined"
          ]
        }
      ]
    },
    {
      "cell_type": "code",
      "metadata": {
        "id": "kvSAvDk14yVJ"
      },
      "source": [
        "names = ['ANGRY','DISGUST','FEAR','HAPPY','NEUTRAL','SAD','SURPRISE']\n",
        "import brewer2mpl\n",
        " \n",
        "def plot_distribution2(y_true, y_pred):\n",
        "    \"\"\"\n",
        "    The function is used to compare the number of true labels as well as prediction results\n",
        "    \"\"\"\n",
        "    colorset = brewer2mpl.get_map('Set3', 'qualitative', 7).mpl_colors\n",
        "    ind = np.arange(1.5,8,1)  # the x locations for the groups\n",
        "    width = 0.35\n",
        "    fig, ax = plt.subplots()\n",
        "    true = ax.bar(ind, np.bincount(y_true), width, color=colorset, alpha=1.0)\n",
        "    pred = ax.bar(ind + width, np.bincount(y_pred), width, color=colorset, alpha=0.3)\n",
        "    ax.set_xticks(np.arange(1.5,8,1))\n",
        "    ax.set_xticklabels(names, rotation=30, fontsize=14)\n",
        "    ax.set_xlim([1.25, 8.5])\n",
        "    ax.set_ylim([0, 60])\n",
        "    ax.set_title('True and Predicted Label Count on CK+ ')\n",
        "    plt.tight_layout()\n",
        "    plt.show()\n",
        " \n",
        "print(len(y_true))\n",
        "print(len(y_pred)) \n",
        "plot_distribution2(y_true, y_pred)"
      ],
      "execution_count": null,
      "outputs": []
    }
  ]
}