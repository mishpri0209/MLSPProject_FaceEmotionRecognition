{
  "nbformat": 4,
  "nbformat_minor": 0,
  "metadata": {
    "colab": {
      "name": "FERC2013_proposedModel",
      "provenance": [],
      "collapsed_sections": []
    },
    "kernelspec": {
      "display_name": "Python 3",
      "name": "python3"
    },
    "language_info": {
      "name": "python"
    },
    "accelerator": "GPU"
  },
  "cells": [
    {
      "cell_type": "code",
      "metadata": {
        "colab": {
          "base_uri": "https://localhost:8080/",
          "height": 35
        },
        "id": "97qfd0DqjNEK",
        "outputId": "5c459054-d2ef-494e-f49f-03802f2a7912"
      },
      "source": [
        "import tensorflow as tf\n",
        "tf.test.gpu_device_name()"
      ],
      "execution_count": 1,
      "outputs": [
        {
          "output_type": "execute_result",
          "data": {
            "application/vnd.google.colaboratory.intrinsic+json": {
              "type": "string"
            },
            "text/plain": [
              "'/device:GPU:0'"
            ]
          },
          "metadata": {
            "tags": []
          },
          "execution_count": 1
        }
      ]
    },
    {
      "cell_type": "code",
      "metadata": {
        "id": "_FJXoQyIj1ch"
      },
      "source": [
        "import math\n",
        "import numpy as np\n",
        "import pandas as pd\n",
        "import seaborn as sns\n",
        "from matplotlib import pyplot\n",
        "\n",
        "from sklearn.model_selection import train_test_split\n",
        "from sklearn.preprocessing import LabelEncoder\n",
        "from sklearn.metrics import classification_report\n",
        "\n",
        "import tensorflow as tf\n",
        "from tensorflow.keras import optimizers\n",
        "from tensorflow.keras.datasets import mnist\n",
        "from tensorflow.keras.models import Sequential\n",
        "from tensorflow.keras.layers import Flatten, Dense, Conv2D, MaxPooling2D\n",
        "from tensorflow.keras.layers import Dropout, BatchNormalization, LeakyReLU, Activation\n",
        "from tensorflow.keras.callbacks import Callback, EarlyStopping, ReduceLROnPlateau\n",
        "from tensorflow.keras.preprocessing.image import ImageDataGenerator\n",
        "\n",
        "from keras.utils import np_utils"
      ],
      "execution_count": 2,
      "outputs": []
    },
    {
      "cell_type": "code",
      "metadata": {
        "id": "pV2mduz2j558"
      },
      "source": [
        "batch_size = 64\n",
        "epochs = 100\n",
        "width, height = 48, 48"
      ],
      "execution_count": 3,
      "outputs": []
    },
    {
      "cell_type": "code",
      "metadata": {
        "colab": {
          "base_uri": "https://localhost:8080/"
        },
        "id": "H1XdcdfEsYj8",
        "outputId": "3c019845-8edd-44ad-d328-882d678c1313"
      },
      "source": [
        "from google.colab import drive\n",
        "drive.mount('/content/drive')"
      ],
      "execution_count": 4,
      "outputs": [
        {
          "output_type": "stream",
          "text": [
            "Mounted at /content/drive\n"
          ],
          "name": "stdout"
        }
      ]
    },
    {
      "cell_type": "code",
      "metadata": {
        "colab": {
          "base_uri": "https://localhost:8080/",
          "height": 218
        },
        "id": "hSMZ6GHtsreE",
        "outputId": "02f67cc1-3bb0-4ca1-e7e0-3e6e0559edfd"
      },
      "source": [
        "data = pd.read_csv('/content/drive/My Drive/fer.csv')\n",
        "print(data.shape)\n",
        "data.head()"
      ],
      "execution_count": 8,
      "outputs": [
        {
          "output_type": "stream",
          "text": [
            "(35887, 3)\n"
          ],
          "name": "stdout"
        },
        {
          "output_type": "execute_result",
          "data": {
            "text/html": [
              "<div>\n",
              "<style scoped>\n",
              "    .dataframe tbody tr th:only-of-type {\n",
              "        vertical-align: middle;\n",
              "    }\n",
              "\n",
              "    .dataframe tbody tr th {\n",
              "        vertical-align: top;\n",
              "    }\n",
              "\n",
              "    .dataframe thead th {\n",
              "        text-align: right;\n",
              "    }\n",
              "</style>\n",
              "<table border=\"1\" class=\"dataframe\">\n",
              "  <thead>\n",
              "    <tr style=\"text-align: right;\">\n",
              "      <th></th>\n",
              "      <th>emotion</th>\n",
              "      <th>pixels</th>\n",
              "      <th>Usage</th>\n",
              "    </tr>\n",
              "  </thead>\n",
              "  <tbody>\n",
              "    <tr>\n",
              "      <th>0</th>\n",
              "      <td>0</td>\n",
              "      <td>70 80 82 72 58 58 60 63 54 58 60 48 89 115 121...</td>\n",
              "      <td>Training</td>\n",
              "    </tr>\n",
              "    <tr>\n",
              "      <th>1</th>\n",
              "      <td>0</td>\n",
              "      <td>151 150 147 155 148 133 111 140 170 174 182 15...</td>\n",
              "      <td>Training</td>\n",
              "    </tr>\n",
              "    <tr>\n",
              "      <th>2</th>\n",
              "      <td>2</td>\n",
              "      <td>231 212 156 164 174 138 161 173 182 200 106 38...</td>\n",
              "      <td>Training</td>\n",
              "    </tr>\n",
              "    <tr>\n",
              "      <th>3</th>\n",
              "      <td>4</td>\n",
              "      <td>24 32 36 30 32 23 19 20 30 41 21 22 32 34 21 1...</td>\n",
              "      <td>Training</td>\n",
              "    </tr>\n",
              "    <tr>\n",
              "      <th>4</th>\n",
              "      <td>6</td>\n",
              "      <td>4 0 0 0 0 0 0 0 0 0 0 0 3 15 23 28 48 50 58 84...</td>\n",
              "      <td>Training</td>\n",
              "    </tr>\n",
              "  </tbody>\n",
              "</table>\n",
              "</div>"
            ],
            "text/plain": [
              "   emotion                                             pixels     Usage\n",
              "0        0  70 80 82 72 58 58 60 63 54 58 60 48 89 115 121...  Training\n",
              "1        0  151 150 147 155 148 133 111 140 170 174 182 15...  Training\n",
              "2        2  231 212 156 164 174 138 161 173 182 200 106 38...  Training\n",
              "3        4  24 32 36 30 32 23 19 20 30 41 21 22 32 34 21 1...  Training\n",
              "4        6  4 0 0 0 0 0 0 0 0 0 0 0 3 15 23 28 48 50 58 84...  Training"
            ]
          },
          "metadata": {
            "tags": []
          },
          "execution_count": 8
        }
      ]
    },
    {
      "cell_type": "code",
      "metadata": {
        "id": "TIV92IPFrbo7"
      },
      "source": [
        "p = data['pixels'].tolist()\n",
        "\n",
        "final_i = []\n",
        "for i in p:\n",
        "    fe = [int(pixel) for pixel in i.split(' ')]\n",
        "    fe = np.asarray(fe).reshape(width, height)\n",
        "    final_i.append(fe.astype('float32'))\n",
        "\n",
        "final_i = np.asarray(final_i)\n",
        "final_i = np.expand_dims(final_i, -1)\n",
        "\n",
        "emotions = pd.get_dummies(data['emotion']).to_numpy()"
      ],
      "execution_count": 12,
      "outputs": []
    },
    {
      "cell_type": "code",
      "metadata": {
        "id": "mvX7Btisu8iV"
      },
      "source": [
        "X_train, X_test, y_train, y_test = train_test_split(final_i, emotions, test_size=0.1, random_state=42)\n",
        "X_train, X_val, y_train, y_val = train_test_split(X_train, y_train, test_size=0.1, random_state=41)"
      ],
      "execution_count": 13,
      "outputs": []
    },
    {
      "cell_type": "code",
      "metadata": {
        "colab": {
          "base_uri": "https://localhost:8080/"
        },
        "id": "gGxEstLmu-Eu",
        "outputId": "56e4fc05-ea18-4761-e5ae-c25505025e97"
      },
      "source": [
        "from tensorflow import keras \n",
        "from tensorflow.keras.models import Sequential\n",
        "from tensorflow.keras.models import Model\n",
        "from tensorflow.keras.layers import Input, Dense, concatenate\n",
        "from tensorflow.keras.optimizers import *\n",
        "from tensorflow.keras.regularizers import *\n",
        "from tensorflow.keras.layers import Flatten, Dense, Conv2D, MaxPooling2D\n",
        "from tensorflow.keras.layers import Dropout, BatchNormalization, LeakyReLU, Activation\n",
        "\n",
        "\n",
        "model = Sequential()\n",
        "\n",
        "model.add(Conv2D(64, kernel_size=(3, 3), activation='relu', input_shape=(48, 48, 1), data_format='channels_last', kernel_regularizer=l2(0.01)))\n",
        "model.add(Conv2D(64, kernel_size=(3, 3), activation='relu', padding='same'))\n",
        "model.add(BatchNormalization())\n",
        "model.add(MaxPooling2D(pool_size=(2, 2), strides=(2, 2)))\n",
        "model.add(Dropout(0.5))\n",
        "\n",
        "model.add(Conv2D(2*64, kernel_size=(3, 3), activation='relu', padding='same'))\n",
        "model.add(BatchNormalization())\n",
        "model.add(Conv2D(2*64, kernel_size=(3, 3), activation='relu', padding='same'))\n",
        "model.add(BatchNormalization())\n",
        "model.add(MaxPooling2D(pool_size=(2, 2), strides=(2, 2)))\n",
        "model.add(Dropout(0.5))\n",
        "\n",
        "model.add(Conv2D(2*2*64, kernel_size=(3, 3), activation='relu', padding='same'))\n",
        "model.add(BatchNormalization())\n",
        "model.add(Conv2D(2*2*64, kernel_size=(3, 3), activation='relu', padding='same'))\n",
        "model.add(BatchNormalization())\n",
        "model.add(MaxPooling2D(pool_size=(2, 2), strides=(2, 2)))\n",
        "model.add(Dropout(0.5))\n",
        "\n",
        "model.add(Conv2D(2*2*2*64, kernel_size=(3, 3), activation='relu', padding='same'))\n",
        "model.add(BatchNormalization())\n",
        "model.add(Conv2D(2*2*2*64, kernel_size=(3, 3), activation='relu', padding='same'))\n",
        "model.add(BatchNormalization())\n",
        "model.add(MaxPooling2D(pool_size=(2, 2), strides=(2, 2)))\n",
        "model.add(Dropout(0.5))\n",
        "\n",
        "model.add(Flatten())\n",
        "\n",
        "model.add(Dense(2*2*2*64, activation='relu'))\n",
        "model.add(Dropout(0.4))\n",
        "model.add(Dense(2*2*64, activation='relu'))\n",
        "model.add(Dropout(0.4))\n",
        "model.add(Dense(2*64, activation='relu'))\n",
        "model.add(Dropout(0.5))\n",
        "\n",
        "model.add(Dense(7, activation='softmax'))\n",
        "model.summary()"
      ],
      "execution_count": 14,
      "outputs": [
        {
          "output_type": "stream",
          "text": [
            "Model: \"sequential\"\n",
            "_________________________________________________________________\n",
            "Layer (type)                 Output Shape              Param #   \n",
            "=================================================================\n",
            "conv2d (Conv2D)              (None, 46, 46, 64)        640       \n",
            "_________________________________________________________________\n",
            "conv2d_1 (Conv2D)            (None, 46, 46, 64)        36928     \n",
            "_________________________________________________________________\n",
            "batch_normalization (BatchNo (None, 46, 46, 64)        256       \n",
            "_________________________________________________________________\n",
            "max_pooling2d (MaxPooling2D) (None, 23, 23, 64)        0         \n",
            "_________________________________________________________________\n",
            "dropout (Dropout)            (None, 23, 23, 64)        0         \n",
            "_________________________________________________________________\n",
            "conv2d_2 (Conv2D)            (None, 23, 23, 128)       73856     \n",
            "_________________________________________________________________\n",
            "batch_normalization_1 (Batch (None, 23, 23, 128)       512       \n",
            "_________________________________________________________________\n",
            "conv2d_3 (Conv2D)            (None, 23, 23, 128)       147584    \n",
            "_________________________________________________________________\n",
            "batch_normalization_2 (Batch (None, 23, 23, 128)       512       \n",
            "_________________________________________________________________\n",
            "max_pooling2d_1 (MaxPooling2 (None, 11, 11, 128)       0         \n",
            "_________________________________________________________________\n",
            "dropout_1 (Dropout)          (None, 11, 11, 128)       0         \n",
            "_________________________________________________________________\n",
            "conv2d_4 (Conv2D)            (None, 11, 11, 256)       295168    \n",
            "_________________________________________________________________\n",
            "batch_normalization_3 (Batch (None, 11, 11, 256)       1024      \n",
            "_________________________________________________________________\n",
            "conv2d_5 (Conv2D)            (None, 11, 11, 256)       590080    \n",
            "_________________________________________________________________\n",
            "batch_normalization_4 (Batch (None, 11, 11, 256)       1024      \n",
            "_________________________________________________________________\n",
            "max_pooling2d_2 (MaxPooling2 (None, 5, 5, 256)         0         \n",
            "_________________________________________________________________\n",
            "dropout_2 (Dropout)          (None, 5, 5, 256)         0         \n",
            "_________________________________________________________________\n",
            "conv2d_6 (Conv2D)            (None, 5, 5, 512)         1180160   \n",
            "_________________________________________________________________\n",
            "batch_normalization_5 (Batch (None, 5, 5, 512)         2048      \n",
            "_________________________________________________________________\n",
            "conv2d_7 (Conv2D)            (None, 5, 5, 512)         2359808   \n",
            "_________________________________________________________________\n",
            "batch_normalization_6 (Batch (None, 5, 5, 512)         2048      \n",
            "_________________________________________________________________\n",
            "max_pooling2d_3 (MaxPooling2 (None, 2, 2, 512)         0         \n",
            "_________________________________________________________________\n",
            "dropout_3 (Dropout)          (None, 2, 2, 512)         0         \n",
            "_________________________________________________________________\n",
            "flatten (Flatten)            (None, 2048)              0         \n",
            "_________________________________________________________________\n",
            "dense (Dense)                (None, 512)               1049088   \n",
            "_________________________________________________________________\n",
            "dropout_4 (Dropout)          (None, 512)               0         \n",
            "_________________________________________________________________\n",
            "dense_1 (Dense)              (None, 256)               131328    \n",
            "_________________________________________________________________\n",
            "dropout_5 (Dropout)          (None, 256)               0         \n",
            "_________________________________________________________________\n",
            "dense_2 (Dense)              (None, 128)               32896     \n",
            "_________________________________________________________________\n",
            "dropout_6 (Dropout)          (None, 128)               0         \n",
            "_________________________________________________________________\n",
            "dense_3 (Dense)              (None, 7)                 903       \n",
            "=================================================================\n",
            "Total params: 5,905,863\n",
            "Trainable params: 5,902,151\n",
            "Non-trainable params: 3,712\n",
            "_________________________________________________________________\n"
          ],
          "name": "stdout"
        }
      ]
    },
    {
      "cell_type": "code",
      "metadata": {
        "id": "8JPcITjKvGhM"
      },
      "source": [
        "model.compile(loss='categorical_crossentropy', optimizer='adam', metrics=['accuracy'])"
      ],
      "execution_count": 15,
      "outputs": []
    },
    {
      "cell_type": "code",
      "metadata": {
        "id": "N3Yi_h9xvK1O"
      },
      "source": [
        "lr_R = ReduceLROnPlateau(monitor='val_loss', factor=0.9, patience=3, verbose=1)"
      ],
      "execution_count": 16,
      "outputs": []
    },
    {
      "cell_type": "code",
      "metadata": {
        "colab": {
          "base_uri": "https://localhost:8080/"
        },
        "id": "kPXgEvMuvOHT",
        "outputId": "cae0ad3d-661b-4181-8b52-c1f183093737"
      },
      "source": [
        "history=model.fit(np.array(X_train), np.array(y_train),\n",
        "          batch_size=batch_size,\n",
        "          epochs=epochs,\n",
        "          verbose=1,\n",
        "          validation_data=(np.array(X_test), np.array(y_test)),\n",
        "          shuffle=True,\n",
        "          callbacks=[lr_R])"
      ],
      "execution_count": 17,
      "outputs": [
        {
          "output_type": "stream",
          "text": [
            "Epoch 1/100\n",
            "455/455 [==============================] - 55s 47ms/step - loss: 1.9858 - accuracy: 0.2199 - val_loss: 1.8134 - val_accuracy: 0.2455\n",
            "Epoch 2/100\n",
            "455/455 [==============================] - 21s 45ms/step - loss: 1.8355 - accuracy: 0.2459 - val_loss: 1.7999 - val_accuracy: 0.2455\n",
            "Epoch 3/100\n",
            "455/455 [==============================] - 20s 45ms/step - loss: 1.7870 - accuracy: 0.2732 - val_loss: 1.8005 - val_accuracy: 0.2600\n",
            "Epoch 4/100\n",
            "455/455 [==============================] - 20s 44ms/step - loss: 1.6977 - accuracy: 0.3170 - val_loss: 1.6224 - val_accuracy: 0.3514\n",
            "Epoch 5/100\n",
            "455/455 [==============================] - 20s 44ms/step - loss: 1.5815 - accuracy: 0.3766 - val_loss: 1.4870 - val_accuracy: 0.4235\n",
            "Epoch 6/100\n",
            "455/455 [==============================] - 20s 45ms/step - loss: 1.5139 - accuracy: 0.4099 - val_loss: 1.5104 - val_accuracy: 0.4046\n",
            "Epoch 7/100\n",
            "455/455 [==============================] - 20s 45ms/step - loss: 1.4529 - accuracy: 0.4346 - val_loss: 1.3770 - val_accuracy: 0.4712\n",
            "Epoch 8/100\n",
            "455/455 [==============================] - 20s 45ms/step - loss: 1.4058 - accuracy: 0.4590 - val_loss: 1.4009 - val_accuracy: 0.4542\n",
            "Epoch 9/100\n",
            "455/455 [==============================] - 20s 44ms/step - loss: 1.3756 - accuracy: 0.4755 - val_loss: 1.3699 - val_accuracy: 0.4801\n",
            "Epoch 10/100\n",
            "455/455 [==============================] - 21s 46ms/step - loss: 1.3431 - accuracy: 0.4917 - val_loss: 1.2730 - val_accuracy: 0.5157\n",
            "Epoch 11/100\n",
            "455/455 [==============================] - 20s 44ms/step - loss: 1.2994 - accuracy: 0.5115 - val_loss: 1.2830 - val_accuracy: 0.5068\n",
            "Epoch 12/100\n",
            "455/455 [==============================] - 20s 45ms/step - loss: 1.2847 - accuracy: 0.5207 - val_loss: 1.2887 - val_accuracy: 0.4868\n",
            "Epoch 13/100\n",
            "455/455 [==============================] - 20s 45ms/step - loss: 1.2572 - accuracy: 0.5347 - val_loss: 1.1744 - val_accuracy: 0.5366\n",
            "Epoch 14/100\n",
            "455/455 [==============================] - 20s 45ms/step - loss: 1.2258 - accuracy: 0.5492 - val_loss: 1.1729 - val_accuracy: 0.5617\n",
            "Epoch 15/100\n",
            "455/455 [==============================] - 20s 45ms/step - loss: 1.2066 - accuracy: 0.5553 - val_loss: 1.1944 - val_accuracy: 0.5581\n",
            "Epoch 16/100\n",
            "455/455 [==============================] - 20s 45ms/step - loss: 1.1792 - accuracy: 0.5708 - val_loss: 1.1778 - val_accuracy: 0.5648\n",
            "Epoch 17/100\n",
            "455/455 [==============================] - 20s 44ms/step - loss: 1.1587 - accuracy: 0.5767 - val_loss: 1.1429 - val_accuracy: 0.5784\n",
            "Epoch 18/100\n",
            "455/455 [==============================] - 20s 44ms/step - loss: 1.1325 - accuracy: 0.5858 - val_loss: 1.1226 - val_accuracy: 0.5885\n",
            "Epoch 19/100\n",
            "455/455 [==============================] - 20s 44ms/step - loss: 1.1070 - accuracy: 0.5986 - val_loss: 1.0990 - val_accuracy: 0.5924\n",
            "Epoch 20/100\n",
            "455/455 [==============================] - 20s 44ms/step - loss: 1.0783 - accuracy: 0.6083 - val_loss: 1.0934 - val_accuracy: 0.6010\n",
            "Epoch 21/100\n",
            "455/455 [==============================] - 20s 44ms/step - loss: 1.0606 - accuracy: 0.6159 - val_loss: 1.0668 - val_accuracy: 0.6099\n",
            "Epoch 22/100\n",
            "455/455 [==============================] - 20s 44ms/step - loss: 1.0392 - accuracy: 0.6243 - val_loss: 1.0806 - val_accuracy: 0.6041\n",
            "Epoch 23/100\n",
            "455/455 [==============================] - 20s 44ms/step - loss: 1.0208 - accuracy: 0.6310 - val_loss: 1.0597 - val_accuracy: 0.6158\n",
            "Epoch 24/100\n",
            "455/455 [==============================] - 20s 44ms/step - loss: 0.9981 - accuracy: 0.6390 - val_loss: 1.0449 - val_accuracy: 0.6230\n",
            "Epoch 25/100\n",
            "455/455 [==============================] - 20s 44ms/step - loss: 0.9756 - accuracy: 0.6457 - val_loss: 1.0406 - val_accuracy: 0.6180\n",
            "Epoch 26/100\n",
            "455/455 [==============================] - 20s 44ms/step - loss: 0.9552 - accuracy: 0.6514 - val_loss: 1.0489 - val_accuracy: 0.6183\n",
            "Epoch 27/100\n",
            "455/455 [==============================] - 20s 44ms/step - loss: 0.9286 - accuracy: 0.6619 - val_loss: 1.0557 - val_accuracy: 0.6233\n",
            "Epoch 28/100\n",
            "455/455 [==============================] - 20s 44ms/step - loss: 0.9200 - accuracy: 0.6669 - val_loss: 1.0389 - val_accuracy: 0.6266\n",
            "Epoch 29/100\n",
            "455/455 [==============================] - 20s 44ms/step - loss: 0.9034 - accuracy: 0.6745 - val_loss: 1.0566 - val_accuracy: 0.6188\n",
            "Epoch 30/100\n",
            "455/455 [==============================] - 20s 44ms/step - loss: 0.8820 - accuracy: 0.6809 - val_loss: 1.0737 - val_accuracy: 0.6250\n",
            "Epoch 31/100\n",
            "455/455 [==============================] - 20s 44ms/step - loss: 0.8631 - accuracy: 0.6862 - val_loss: 1.0401 - val_accuracy: 0.6342\n",
            "\n",
            "Epoch 00031: ReduceLROnPlateau reducing learning rate to 0.0009000000427477062.\n",
            "Epoch 32/100\n",
            "455/455 [==============================] - 20s 44ms/step - loss: 0.8338 - accuracy: 0.7001 - val_loss: 1.0742 - val_accuracy: 0.6233\n",
            "Epoch 33/100\n",
            "455/455 [==============================] - 21s 46ms/step - loss: 0.8179 - accuracy: 0.7065 - val_loss: 1.0607 - val_accuracy: 0.6378\n",
            "Epoch 34/100\n",
            "455/455 [==============================] - 20s 44ms/step - loss: 0.7969 - accuracy: 0.7148 - val_loss: 1.0462 - val_accuracy: 0.6358\n",
            "\n",
            "Epoch 00034: ReduceLROnPlateau reducing learning rate to 0.0008100000384729356.\n",
            "Epoch 35/100\n",
            "455/455 [==============================] - 20s 44ms/step - loss: 0.7673 - accuracy: 0.7273 - val_loss: 1.0659 - val_accuracy: 0.6442\n",
            "Epoch 36/100\n",
            "455/455 [==============================] - 21s 46ms/step - loss: 0.7475 - accuracy: 0.7300 - val_loss: 1.1364 - val_accuracy: 0.6275\n",
            "Epoch 37/100\n",
            "455/455 [==============================] - 20s 44ms/step - loss: 0.7339 - accuracy: 0.7373 - val_loss: 1.0832 - val_accuracy: 0.6372\n",
            "\n",
            "Epoch 00037: ReduceLROnPlateau reducing learning rate to 0.0007290000503417104.\n",
            "Epoch 38/100\n",
            "455/455 [==============================] - 20s 44ms/step - loss: 0.7065 - accuracy: 0.7481 - val_loss: 1.0576 - val_accuracy: 0.6417\n",
            "Epoch 39/100\n",
            "455/455 [==============================] - 20s 44ms/step - loss: 0.6921 - accuracy: 0.7541 - val_loss: 1.0564 - val_accuracy: 0.6342\n",
            "Epoch 40/100\n",
            "455/455 [==============================] - 20s 44ms/step - loss: 0.6776 - accuracy: 0.7574 - val_loss: 1.0672 - val_accuracy: 0.6425\n",
            "\n",
            "Epoch 00040: ReduceLROnPlateau reducing learning rate to 0.0006561000715009868.\n",
            "Epoch 41/100\n",
            "455/455 [==============================] - 20s 44ms/step - loss: 0.6446 - accuracy: 0.7690 - val_loss: 1.1872 - val_accuracy: 0.6322\n",
            "Epoch 42/100\n",
            "455/455 [==============================] - 20s 44ms/step - loss: 0.6339 - accuracy: 0.7758 - val_loss: 1.1341 - val_accuracy: 0.6445\n",
            "Epoch 43/100\n",
            "455/455 [==============================] - 20s 44ms/step - loss: 0.6106 - accuracy: 0.7858 - val_loss: 1.0850 - val_accuracy: 0.6453\n",
            "\n",
            "Epoch 00043: ReduceLROnPlateau reducing learning rate to 0.0005904900433961303.\n",
            "Epoch 44/100\n",
            "455/455 [==============================] - 20s 44ms/step - loss: 0.5905 - accuracy: 0.7903 - val_loss: 1.1180 - val_accuracy: 0.6531\n",
            "Epoch 45/100\n",
            "455/455 [==============================] - 21s 46ms/step - loss: 0.5798 - accuracy: 0.7975 - val_loss: 1.1256 - val_accuracy: 0.6445\n",
            "Epoch 46/100\n",
            "455/455 [==============================] - 20s 44ms/step - loss: 0.5697 - accuracy: 0.7975 - val_loss: 1.1165 - val_accuracy: 0.6408\n",
            "\n",
            "Epoch 00046: ReduceLROnPlateau reducing learning rate to 0.0005314410547725857.\n",
            "Epoch 47/100\n",
            "455/455 [==============================] - 20s 44ms/step - loss: 0.5436 - accuracy: 0.8093 - val_loss: 1.1454 - val_accuracy: 0.6581\n",
            "Epoch 48/100\n",
            "455/455 [==============================] - 20s 44ms/step - loss: 0.5216 - accuracy: 0.8169 - val_loss: 1.1664 - val_accuracy: 0.6372\n",
            "Epoch 49/100\n",
            "455/455 [==============================] - 20s 44ms/step - loss: 0.5154 - accuracy: 0.8204 - val_loss: 1.1484 - val_accuracy: 0.6478\n",
            "\n",
            "Epoch 00049: ReduceLROnPlateau reducing learning rate to 0.00047829695977270604.\n",
            "Epoch 50/100\n",
            "455/455 [==============================] - 20s 44ms/step - loss: 0.4999 - accuracy: 0.8270 - val_loss: 1.1442 - val_accuracy: 0.6537\n",
            "Epoch 51/100\n",
            "455/455 [==============================] - 20s 44ms/step - loss: 0.4858 - accuracy: 0.8302 - val_loss: 1.1915 - val_accuracy: 0.6592\n",
            "Epoch 52/100\n",
            "455/455 [==============================] - 20s 44ms/step - loss: 0.4703 - accuracy: 0.8340 - val_loss: 1.2984 - val_accuracy: 0.6434\n",
            "\n",
            "Epoch 00052: ReduceLROnPlateau reducing learning rate to 0.0004304672533180565.\n",
            "Epoch 53/100\n",
            "455/455 [==============================] - 20s 44ms/step - loss: 0.4595 - accuracy: 0.8385 - val_loss: 1.1908 - val_accuracy: 0.6567\n",
            "Epoch 54/100\n",
            "455/455 [==============================] - 20s 44ms/step - loss: 0.4465 - accuracy: 0.8434 - val_loss: 1.2422 - val_accuracy: 0.6601\n",
            "Epoch 55/100\n",
            "455/455 [==============================] - 20s 44ms/step - loss: 0.4334 - accuracy: 0.8508 - val_loss: 1.2721 - val_accuracy: 0.6512\n",
            "\n",
            "Epoch 00055: ReduceLROnPlateau reducing learning rate to 0.00038742052274756136.\n",
            "Epoch 56/100\n",
            "455/455 [==============================] - 20s 44ms/step - loss: 0.4262 - accuracy: 0.8533 - val_loss: 1.2749 - val_accuracy: 0.6528\n",
            "Epoch 57/100\n",
            "455/455 [==============================] - 20s 44ms/step - loss: 0.4137 - accuracy: 0.8572 - val_loss: 1.2011 - val_accuracy: 0.6553\n",
            "Epoch 58/100\n",
            "455/455 [==============================] - 20s 44ms/step - loss: 0.4095 - accuracy: 0.8581 - val_loss: 1.2870 - val_accuracy: 0.6573\n",
            "\n",
            "Epoch 00058: ReduceLROnPlateau reducing learning rate to 0.0003486784757114947.\n",
            "Epoch 59/100\n",
            "455/455 [==============================] - 20s 44ms/step - loss: 0.3961 - accuracy: 0.8631 - val_loss: 1.2827 - val_accuracy: 0.6553\n",
            "Epoch 60/100\n",
            "455/455 [==============================] - 20s 44ms/step - loss: 0.3934 - accuracy: 0.8646 - val_loss: 1.2932 - val_accuracy: 0.6573\n",
            "Epoch 61/100\n",
            "455/455 [==============================] - 20s 44ms/step - loss: 0.3780 - accuracy: 0.8679 - val_loss: 1.2674 - val_accuracy: 0.6631\n",
            "\n",
            "Epoch 00061: ReduceLROnPlateau reducing learning rate to 0.00031381062290165574.\n",
            "Epoch 62/100\n",
            "455/455 [==============================] - 20s 44ms/step - loss: 0.3607 - accuracy: 0.8755 - val_loss: 1.3003 - val_accuracy: 0.6573\n",
            "Epoch 63/100\n",
            "455/455 [==============================] - 20s 44ms/step - loss: 0.3598 - accuracy: 0.8756 - val_loss: 1.3182 - val_accuracy: 0.6567\n",
            "Epoch 64/100\n",
            "455/455 [==============================] - 20s 44ms/step - loss: 0.3449 - accuracy: 0.8821 - val_loss: 1.4120 - val_accuracy: 0.6631\n",
            "\n",
            "Epoch 00064: ReduceLROnPlateau reducing learning rate to 0.0002824295632308349.\n",
            "Epoch 65/100\n",
            "455/455 [==============================] - 20s 44ms/step - loss: 0.3486 - accuracy: 0.8791 - val_loss: 1.3292 - val_accuracy: 0.6615\n",
            "Epoch 66/100\n",
            "455/455 [==============================] - 20s 44ms/step - loss: 0.3313 - accuracy: 0.8865 - val_loss: 1.4008 - val_accuracy: 0.6634\n",
            "Epoch 67/100\n",
            "455/455 [==============================] - 20s 45ms/step - loss: 0.3333 - accuracy: 0.8864 - val_loss: 1.3727 - val_accuracy: 0.6606\n",
            "\n",
            "Epoch 00067: ReduceLROnPlateau reducing learning rate to 0.00025418660952709616.\n",
            "Epoch 68/100\n",
            "455/455 [==============================] - 20s 45ms/step - loss: 0.3182 - accuracy: 0.8909 - val_loss: 1.4168 - val_accuracy: 0.6595\n",
            "Epoch 69/100\n",
            "455/455 [==============================] - 21s 46ms/step - loss: 0.3085 - accuracy: 0.8937 - val_loss: 1.4150 - val_accuracy: 0.6620\n",
            "Epoch 70/100\n",
            "455/455 [==============================] - 20s 45ms/step - loss: 0.3068 - accuracy: 0.8943 - val_loss: 1.4068 - val_accuracy: 0.6542\n",
            "\n",
            "Epoch 00070: ReduceLROnPlateau reducing learning rate to 0.00022876793809700757.\n",
            "Epoch 71/100\n",
            "455/455 [==============================] - 20s 45ms/step - loss: 0.2969 - accuracy: 0.8980 - val_loss: 1.4940 - val_accuracy: 0.6601\n",
            "Epoch 72/100\n",
            "455/455 [==============================] - 20s 45ms/step - loss: 0.2904 - accuracy: 0.9014 - val_loss: 1.4601 - val_accuracy: 0.6615\n",
            "Epoch 73/100\n",
            "455/455 [==============================] - 20s 45ms/step - loss: 0.2929 - accuracy: 0.8990 - val_loss: 1.4434 - val_accuracy: 0.6687\n",
            "\n",
            "Epoch 00073: ReduceLROnPlateau reducing learning rate to 0.00020589114428730683.\n",
            "Epoch 74/100\n",
            "455/455 [==============================] - 20s 45ms/step - loss: 0.2856 - accuracy: 0.9039 - val_loss: 1.4529 - val_accuracy: 0.6654\n",
            "Epoch 75/100\n",
            "455/455 [==============================] - 21s 46ms/step - loss: 0.2788 - accuracy: 0.9053 - val_loss: 1.4072 - val_accuracy: 0.6609\n",
            "Epoch 76/100\n",
            "455/455 [==============================] - 20s 44ms/step - loss: 0.2752 - accuracy: 0.9076 - val_loss: 1.4476 - val_accuracy: 0.6626\n",
            "\n",
            "Epoch 00076: ReduceLROnPlateau reducing learning rate to 0.00018530203378759326.\n",
            "Epoch 77/100\n",
            "455/455 [==============================] - 20s 45ms/step - loss: 0.2655 - accuracy: 0.9103 - val_loss: 1.5193 - val_accuracy: 0.6656\n",
            "Epoch 78/100\n",
            "455/455 [==============================] - 20s 44ms/step - loss: 0.2658 - accuracy: 0.9090 - val_loss: 1.4876 - val_accuracy: 0.6698\n",
            "Epoch 79/100\n",
            "455/455 [==============================] - 21s 46ms/step - loss: 0.2558 - accuracy: 0.9162 - val_loss: 1.5140 - val_accuracy: 0.6698\n",
            "\n",
            "Epoch 00079: ReduceLROnPlateau reducing learning rate to 0.00016677183302817866.\n",
            "Epoch 80/100\n",
            "455/455 [==============================] - 20s 45ms/step - loss: 0.2556 - accuracy: 0.9145 - val_loss: 1.5241 - val_accuracy: 0.6665\n",
            "Epoch 81/100\n",
            "455/455 [==============================] - 20s 45ms/step - loss: 0.2502 - accuracy: 0.9153 - val_loss: 1.4934 - val_accuracy: 0.6617\n",
            "Epoch 82/100\n",
            "455/455 [==============================] - 20s 44ms/step - loss: 0.2502 - accuracy: 0.9155 - val_loss: 1.5315 - val_accuracy: 0.6637\n",
            "\n",
            "Epoch 00082: ReduceLROnPlateau reducing learning rate to 0.00015009464841568844.\n",
            "Epoch 83/100\n",
            "455/455 [==============================] - 20s 45ms/step - loss: 0.2390 - accuracy: 0.9208 - val_loss: 1.5400 - val_accuracy: 0.6690\n",
            "Epoch 84/100\n",
            "455/455 [==============================] - 20s 45ms/step - loss: 0.2413 - accuracy: 0.9174 - val_loss: 1.5123 - val_accuracy: 0.6617\n",
            "Epoch 85/100\n",
            "455/455 [==============================] - 20s 44ms/step - loss: 0.2353 - accuracy: 0.9211 - val_loss: 1.5552 - val_accuracy: 0.6598\n",
            "\n",
            "Epoch 00085: ReduceLROnPlateau reducing learning rate to 0.0001350851875031367.\n",
            "Epoch 86/100\n",
            "455/455 [==============================] - 20s 44ms/step - loss: 0.2283 - accuracy: 0.9229 - val_loss: 1.5596 - val_accuracy: 0.6629\n",
            "Epoch 87/100\n",
            "455/455 [==============================] - 21s 46ms/step - loss: 0.2283 - accuracy: 0.9227 - val_loss: 1.5740 - val_accuracy: 0.6629\n",
            "Epoch 88/100\n",
            "455/455 [==============================] - 20s 45ms/step - loss: 0.2284 - accuracy: 0.9242 - val_loss: 1.5190 - val_accuracy: 0.6626\n",
            "\n",
            "Epoch 00088: ReduceLROnPlateau reducing learning rate to 0.00012157666351413355.\n",
            "Epoch 89/100\n",
            "455/455 [==============================] - 20s 45ms/step - loss: 0.2179 - accuracy: 0.9278 - val_loss: 1.6062 - val_accuracy: 0.6606\n",
            "Epoch 90/100\n",
            "455/455 [==============================] - 20s 45ms/step - loss: 0.2201 - accuracy: 0.9276 - val_loss: 1.6129 - val_accuracy: 0.6682\n",
            "Epoch 91/100\n",
            "455/455 [==============================] - 20s 45ms/step - loss: 0.2200 - accuracy: 0.9272 - val_loss: 1.5658 - val_accuracy: 0.6648\n",
            "\n",
            "Epoch 00091: ReduceLROnPlateau reducing learning rate to 0.00010941899454337544.\n",
            "Epoch 92/100\n",
            "455/455 [==============================] - 20s 45ms/step - loss: 0.2226 - accuracy: 0.9266 - val_loss: 1.5515 - val_accuracy: 0.6640\n",
            "Epoch 93/100\n",
            "455/455 [==============================] - 21s 46ms/step - loss: 0.2079 - accuracy: 0.9306 - val_loss: 1.5585 - val_accuracy: 0.6629\n",
            "Epoch 94/100\n",
            "455/455 [==============================] - 20s 44ms/step - loss: 0.2083 - accuracy: 0.9307 - val_loss: 1.6145 - val_accuracy: 0.6623\n",
            "\n",
            "Epoch 00094: ReduceLROnPlateau reducing learning rate to 9.847709443420172e-05.\n",
            "Epoch 95/100\n",
            "455/455 [==============================] - 20s 45ms/step - loss: 0.2142 - accuracy: 0.9286 - val_loss: 1.5386 - val_accuracy: 0.6606\n",
            "Epoch 96/100\n",
            "455/455 [==============================] - 20s 45ms/step - loss: 0.1992 - accuracy: 0.9339 - val_loss: 1.6310 - val_accuracy: 0.6595\n",
            "Epoch 97/100\n",
            "455/455 [==============================] - 20s 45ms/step - loss: 0.2067 - accuracy: 0.9315 - val_loss: 1.5868 - val_accuracy: 0.6626\n",
            "\n",
            "Epoch 00097: ReduceLROnPlateau reducing learning rate to 8.862938630045391e-05.\n",
            "Epoch 98/100\n",
            "455/455 [==============================] - 20s 45ms/step - loss: 0.2003 - accuracy: 0.9341 - val_loss: 1.6045 - val_accuracy: 0.6615\n",
            "Epoch 99/100\n",
            "455/455 [==============================] - 20s 45ms/step - loss: 0.1961 - accuracy: 0.9331 - val_loss: 1.6521 - val_accuracy: 0.6668\n",
            "Epoch 100/100\n",
            "455/455 [==============================] - 20s 44ms/step - loss: 0.1944 - accuracy: 0.9367 - val_loss: 1.6349 - val_accuracy: 0.6573\n",
            "\n",
            "Epoch 00100: ReduceLROnPlateau reducing learning rate to 7.976644701557234e-05.\n"
          ],
          "name": "stdout"
        }
      ]
    },
    {
      "cell_type": "code",
      "metadata": {
        "colab": {
          "base_uri": "https://localhost:8080/"
        },
        "id": "_nBhwcSEvUbJ",
        "outputId": "8be8b4c0-cadb-4bf1-85f2-35b9aaacd52b"
      },
      "source": [
        "scores = model.evaluate(np.array(X_test), np.array(y_test), batch_size=64)\n",
        "print(\"Loss: \" + str(scores[0]))\n",
        "print(\"Accuracy: \" + str(scores[1]))"
      ],
      "execution_count": 18,
      "outputs": [
        {
          "output_type": "stream",
          "text": [
            "57/57 [==============================] - 1s 15ms/step - loss: 1.6349 - accuracy: 0.6573\n",
            "Loss: 1.63493013381958\n",
            "Accuracy: 0.6572861671447754\n"
          ],
          "name": "stdout"
        }
      ]
    },
    {
      "cell_type": "code",
      "metadata": {
        "colab": {
          "base_uri": "https://localhost:8080/",
          "height": 581
        },
        "id": "GOEHbcnM4jEE",
        "outputId": "a745cb96-cae2-47ec-c7b1-56e3ac6c0129"
      },
      "source": [
        "# visualizing losses and accuracy\n",
        "%matplotlib inline\n",
        "import matplotlib.pyplot as plt\n",
        "\n",
        "train_loss=history.history['loss']\n",
        "val_loss=history.history['val_loss']\n",
        "train_acc=history.history['accuracy']\n",
        "val_acc=history.history['val_accuracy']\n",
        "\n",
        "epochs = range(len(train_acc))\n",
        "\n",
        "plt.plot(epochs,train_loss,'r', label='train_loss')\n",
        "plt.plot(epochs,val_loss,'b', label='val_loss')\n",
        "plt.title('train_loss vs val_loss')\n",
        "plt.legend()\n",
        "plt.figure()\n",
        "\n",
        "plt.plot(epochs,train_acc,'r', label='train_acc')\n",
        "plt.plot(epochs,val_acc,'b', label='val_accuracy')\n",
        "plt.title('train_acc vs val_acc')\n",
        "plt.legend()\n",
        "plt.figure()"
      ],
      "execution_count": 19,
      "outputs": [
        {
          "output_type": "execute_result",
          "data": {
            "text/plain": [
              "<Figure size 432x288 with 0 Axes>"
            ]
          },
          "metadata": {
            "tags": []
          },
          "execution_count": 19
        },
        {
          "output_type": "display_data",
          "data": {
            "image/png": "[encoded data removed]",
            "text/plain": [
              "<Figure size 432x288 with 1 Axes>"
            ]
          },
          "metadata": {
            "tags": [],
            "needs_background": "light"
          }
        },
        {
          "output_type": "display_data",
          "data": {
            "image/png": "[encoded data removed]",
            "text/plain": [
              "<Figure size 432x288 with 1 Axes>"
            ]
          },
          "metadata": {
            "tags": [],
            "needs_background": "light"
          }
        },
        {
          "output_type": "display_data",
          "data": {
            "text/plain": [
              "<Figure size 432x288 with 0 Axes>"
            ]
          },
          "metadata": {
            "tags": []
          }
        }
      ]
    },
    {
      "cell_type": "code",
      "metadata": {
        "id": "sBcqkUdL4nJu"
      },
      "source": [
        "labels = ['anger','neutral','disgust','fear','happy','sadness','surprise']\n",
        "from sklearn.metrics import confusion_matrix \n",
        "import matplotlib \n",
        "%matplotlib inline\n",
        "\n",
        "def plot_confusion_matrix(y_true, y_pred, cmap=plt.cm.Blues):\n",
        "    \"\"\"\n",
        "    The function is used to construct the confusion matrix \n",
        "    \"\"\"\n",
        "    cm = confusion_matrix(y_true, y_pred)\n",
        "    fig = plt.figure(figsize=(7,7))\n",
        "    matplotlib.rcParams.update({'font.size': 16})\n",
        "    ax  = fig.add_subplot(111)\n",
        "    matrix = ax.imshow(cm, interpolation='nearest', cmap=cmap)\n",
        "    fig.colorbar(matrix) \n",
        "    for i in range(0,7):\n",
        "        for j in range(0,7):  \n",
        "            ax.text(j,i,cm[i,j],va='center', ha='center')\n",
        "    ticks = np.arange(len(labels))\n",
        "    ax.set_xticks(ticks)\n",
        "    ax.set_xticklabels(labels, rotation=45)\n",
        "    ax.set_yticks(ticks)\n",
        "    ax.set_yticklabels(labels)\n",
        "    plt.tight_layout()\n",
        "    plt.ylabel('True label')\n",
        "    plt.xlabel('Predicted label')"
      ],
      "execution_count": 20,
      "outputs": []
    },
    {
      "cell_type": "code",
      "metadata": {
        "colab": {
          "base_uri": "https://localhost:8080/",
          "height": 510
        },
        "id": "Le7NL0FZ4xJM",
        "outputId": "595ab2b3-4185-41be-fdf4-b714b9e1c05c"
      },
      "source": [
        "y_prob=model.predict([X_test],batch_size=64,verbose=1)\n",
        "y_pred = [np.argmax(prob) for prob in y_prob]\n",
        "y_true = [np.argmax(true) for true in y_test]\n",
        "plot_confusion_matrix(y_true, y_pred, cmap=plt.cm.YlGnBu)\n",
        "plt.show()"
      ],
      "execution_count": 23,
      "outputs": [
        {
          "output_type": "stream",
          "text": [
            "57/57 [==============================] - 1s 13ms/step\n"
          ],
          "name": "stdout"
        },
        {
          "output_type": "display_data",
          "data": {
            "image/png": "[encoded data removed]",
            "text/plain": [
              "<Figure size 504x504 with 2 Axes>"
            ]
          },
          "metadata": {
            "tags": [],
            "needs_background": "light"
          }
        }
      ]
    },
    {
      "cell_type": "code",
      "metadata": {
        "id": "kvSAvDk14yVJ",
        "colab": {
          "base_uri": "https://localhost:8080/",
          "height": 319
        },
        "outputId": "1d0a4950-c167-41f7-d36e-3495d3ee4833"
      },
      "source": [
        "names = ['ANGRY','DISGUST','FEAR','HAPPY','NEUTRAL','SAD','SURPRISE']\n",
        "import brewer2mpl\n",
        " \n",
        "def plot_distribution2(y_true, y_pred):\n",
        "    \"\"\"\n",
        "    The function is used to compare the number of true labels as well as prediction results\n",
        "    \"\"\"\n",
        "    colorset = brewer2mpl.get_map('Set3', 'qualitative', 7).mpl_colors\n",
        "    ind = np.arange(1.5,8,1)  # the x locations for the groups\n",
        "    width = 0.35\n",
        "    fig, ax = plt.subplots()\n",
        "    true = ax.bar(ind, np.bincount(y_true), width, color=colorset, alpha=1.0)\n",
        "    pred = ax.bar(ind + width, np.bincount(y_pred), width, color=colorset, alpha=0.3)\n",
        "    ax.set_xticks(np.arange(1.5,8,1))\n",
        "    ax.set_xticklabels(names, rotation=30, fontsize=14)\n",
        "    ax.set_xlim([1.25, 8.5])\n",
        "    ax.set_ylim([0, 1100])\n",
        "    ax.set_title('True and Predicted Label Count on CK+ ')\n",
        "    plt.tight_layout()\n",
        "    plt.show()\n",
        " \n",
        "print(len(y_true))\n",
        "print(len(y_pred)) \n",
        "plot_distribution2(y_true, y_pred)"
      ],
      "execution_count": 27,
      "outputs": [
        {
          "output_type": "stream",
          "text": [
            "3589\n",
            "3589\n"
          ],
          "name": "stdout"
        },
        {
          "output_type": "display_data",
          "data": {
            "image/png": "[encoded data removed]",
            "text/plain": [
              "<Figure size 432x288 with 1 Axes>"
            ]
          },
          "metadata": {
            "tags": [],
            "needs_background": "light"
          }
        }
      ]
    },
    {
      "cell_type": "code",
      "metadata": {
        "colab": {
          "base_uri": "https://localhost:8080/"
        },
        "id": "UcOXuzeN2wDa",
        "outputId": "9f0eb65c-c5fb-44d5-a36f-c9b9d29d2531"
      },
      "source": [
        "pip install brewer2mpl"
      ],
      "execution_count": 25,
      "outputs": [
        {
          "output_type": "stream",
          "text": [
            "Collecting brewer2mpl\n",
            "  Downloading https://files.pythonhosted.org/packages/84/57/00c45a199719e617db0875181134fcb3aeef701deae346547ac722eaaf5e/brewer2mpl-1.4.1-py2.py3-none-any.whl\n",
            "Installing collected packages: brewer2mpl\n",
            "Successfully installed brewer2mpl-1.4.1\n"
          ],
          "name": "stdout"
        }
      ]
    }
  ]
}